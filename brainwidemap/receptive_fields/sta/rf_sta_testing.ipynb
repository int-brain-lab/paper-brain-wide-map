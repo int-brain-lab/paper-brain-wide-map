{
 "cells": [
  {
   "cell_type": "code",
   "execution_count": 29,
   "id": "eb21c9b7-44c6-4051-b161-625278719bcf",
   "metadata": {},
   "outputs": [],
   "source": [
    "import sys\n",
    "from os import path\n",
    "from pathlib import Path\n",
    "\n",
    "# from math import *\n",
    "\n",
    "\n",
    "import numpy as np\n",
    "import pandas as pd\n",
    "import matplotlib.pyplot as plt\n",
    "\n",
    "from scipy import stats as sp_stats\n",
    "\n",
    "from sklearn import linear_model as sk_lm\n",
    "from sklearn import model_selection as sk_ms\n",
    "\n",
    "# import statsmodels.api as sm\n",
    "# from sklearn.base import BaseEstimator, RegressorMixin\n",
    "# import scipy.stats as scist\n",
    "# from scipy.stats import rankdata\n",
    "\n",
    "\n",
    "#from oneibl.one import ONE\n",
    "from one.api import ONE\n",
    "import brainbox.io.one as bbone\n",
    "from brainbox.io.one import SpikeSortingLoader, EphysSessionLoader, SessionLoader\n",
    "from brainbox.task.closed_loop import generate_pseudo_blocks\n",
    "from brainbox.population.decode import get_spike_counts_in_bins\n",
    "\n",
    "from iblutil.numerical import ismember\n",
    "from iblutil.numerical import bincount2D\n",
    "\n",
    "# from ibllib.atlas import AllenAtlas\n",
    "from iblatlas.atlas import AllenAtlas\n",
    "\n",
    "from brainwidemap import bwm_loading, bwm_units, bwm_query, load_good_units, \\\n",
    "    load_trials_and_mask, filter_sessions, download_aggregate_tables\n",
    "from brainwidemap.receptive_fields.sta.regresssion_sta import load_passive_rf_map\n"
   ]
  },
  {
   "cell_type": "code",
   "execution_count": 2,
   "id": "f8d88e01",
   "metadata": {},
   "outputs": [
    {
     "ename": "NameError",
     "evalue": "name 'ONE' is not defined",
     "output_type": "error",
     "traceback": [
      "\u001b[0;31m---------------------------------------------------------------------------\u001b[0m",
      "\u001b[0;31mNameError\u001b[0m                                 Traceback (most recent call last)",
      "Cell \u001b[0;32mIn[2], line 5\u001b[0m\n\u001b[1;32m      1\u001b[0m \u001b[38;5;66;03m######\u001b[39;00m\n\u001b[0;32m----> 5\u001b[0m one \u001b[38;5;241m=\u001b[39m \u001b[43mONE\u001b[49m()\n\u001b[1;32m      6\u001b[0m \u001b[38;5;66;03m# one.refresh_cache('refresh')\u001b[39;00m\n\u001b[1;32m      7\u001b[0m ba \u001b[38;5;241m=\u001b[39m AllenAtlas()\n",
      "\u001b[0;31mNameError\u001b[0m: name 'ONE' is not defined"
     ]
    }
   ],
   "source": [
    "######\n",
    "\n",
    "\n",
    "\n",
    "one = ONE()\n",
    "# one.refresh_cache('refresh')\n",
    "ba = AllenAtlas()"
   ]
  },
  {
   "cell_type": "code",
   "execution_count": 1,
   "id": "cf41204a-6b69-4f23-9d4a-ece08d8ed727",
   "metadata": {},
   "outputs": [
    {
     "ename": "NameError",
     "evalue": "name 'one' is not defined",
     "output_type": "error",
     "traceback": [
      "\u001b[0;31m---------------------------------------------------------------------------\u001b[0m",
      "\u001b[0;31mNameError\u001b[0m                                 Traceback (most recent call last)",
      "Cell \u001b[0;32mIn[1], line 3\u001b[0m\n\u001b[1;32m      1\u001b[0m \u001b[38;5;66;03m# Specify a path to download the cluster and trials tables\u001b[39;00m\n\u001b[1;32m      2\u001b[0m \u001b[38;5;66;03m# local_path = Path.home().joinpath('bwm_examples')\u001b[39;00m\n\u001b[0;32m----> 3\u001b[0m local_path \u001b[38;5;241m=\u001b[39m \u001b[43mone\u001b[49m\u001b[38;5;241m.\u001b[39mcache_dir\u001b[38;5;241m.\u001b[39mparent\u001b[38;5;241m.\u001b[39mjoinpath(\u001b[38;5;124m'\u001b[39m\u001b[38;5;124mrewbias_cache\u001b[39m\u001b[38;5;124m'\u001b[39m)\n\u001b[1;32m      4\u001b[0m local_path\u001b[38;5;241m.\u001b[39mmkdir(exist_ok\u001b[38;5;241m=\u001b[39m\u001b[38;5;28;01mTrue\u001b[39;00m)\n",
      "\u001b[0;31mNameError\u001b[0m: name 'one' is not defined"
     ]
    }
   ],
   "source": [
    "\n",
    "# Specify a path to download the cluster and trials tables\n",
    "# local_path = Path.home().joinpath('bwm_examples')\n",
    "local_path = one.cache_dir.parent.joinpath('sta_cache')\n",
    "local_path.mkdir(exist_ok=True)"
   ]
  },
  {
   "cell_type": "code",
   "execution_count": 32,
   "id": "e8f993ea",
   "metadata": {},
   "outputs": [],
   "source": [
    "# TODO: this should be seperated into prep (lag) and estimation to allow STA, GLM, etc estimators\n",
    "def get_poisson_glm_sta(rfm, spikes, clusters, lag_sec=0, lag_bin=None):\n",
    "    \"\"\"\n",
    "    This function estimates the receptive fields using poisson regression\n",
    "    with cross-validated regularization and permutation tested p-value.\n",
    "\n",
    "    You can specifify the lag between the frame time and evoked spike in\n",
    "    frames or seconds.\n",
    "\n",
    "    Args:\n",
    "        rfm (AlfBunch): The passive receptive field mapping stimuli\n",
    "        spikes (AlfBunch): The insertion spikes\n",
    "        clusters (AlfBunc): The insertion clusters\n",
    "        lag_sec (float): Lag between stimulus presentation and spike in sec\n",
    "        lag_bin (int): lag between stimulus presewntation and spike in frame times\n",
    "    \"\"\"\n",
    "\n",
    "    \n"
   ]
  },
  {
   "cell_type": "code",
   "execution_count": 33,
   "id": "45da9d99-369b-4ff8-9784-0fff02ffb1d0",
   "metadata": {},
   "outputs": [
    {
     "name": "stdout",
     "output_type": "stream",
     "text": [
      "Loading bwm_query results from fixtures/2023_12_bwm_release.csv\n"
     ]
    }
   ],
   "source": [
    "bwm_df = bwm_query()"
   ]
  },
  {
   "cell_type": "code",
   "execution_count": 34,
   "id": "81f4ec0a",
   "metadata": {},
   "outputs": [
    {
     "data": {
      "text/plain": [
       "Index(['pid', 'eid', 'probe_name', 'session_number', 'date', 'subject', 'lab'], dtype='object')"
      ]
     },
     "execution_count": 34,
     "metadata": {},
     "output_type": "execute_result"
    }
   ],
   "source": [
    "bwm_df.columns"
   ]
  },
  {
   "cell_type": "code",
   "execution_count": 35,
   "id": "8a4e86aa-7b9b-4523-ba47-3a7cd4e56a9e",
   "metadata": {},
   "outputs": [],
   "source": [
    "# example session that contain VISp neurons\n",
    "\n",
    "pid='799d899d-c398-4e81-abaf-1ef4b02d5475'\n",
    "eid='e0928e11-2b86-4387-a203-80c77fab5d52'\n",
    "\n",
    "# pid='29418b18-4db6-436f-a85e-b0f1d38d2e62'\n",
    "# eid='fece187f-b47f-4870-a1d6-619afe942a7d'\n",
    "\n"
   ]
  },
  {
   "cell_type": "code",
   "execution_count": 36,
   "id": "35bc368c",
   "metadata": {},
   "outputs": [],
   "source": [
    "visp_sessions = one.alyx.rest('sessions', 'list', task_protocol='ephys',\n",
    "                          atlas_acronym='VISp')\n",
    "visp_sessions_df = pd.DataFrame(visp_sessions)\n",
    "visp_sessions_df = visp_sessions_df.rename(columns={\"id\": \"eid\"})"
   ]
  },
  {
   "cell_type": "code",
   "execution_count": 37,
   "id": "9655bbb3",
   "metadata": {},
   "outputs": [],
   "source": [
    "bwm_visp_sessions_df = pd.merge(bwm_df, visp_sessions_df, how='inner', on=['eid'])"
   ]
  },
  {
   "cell_type": "code",
   "execution_count": 38,
   "id": "0d9def99",
   "metadata": {},
   "outputs": [],
   "source": [
    "# eid = bwm_visp_sessions_df.iloc[1].eid\n",
    "# pid = bwm_visp_sessions_df.iloc[1].pid"
   ]
  },
  {
   "cell_type": "code",
   "execution_count": 39,
   "id": "da5a32ad",
   "metadata": {},
   "outputs": [],
   "source": [
    "rfm = load_passive_rf_map(eid, normalize=True, normalize_range=(-1,1), one=one)\n",
    "spikes, clusters = load_good_units(one, pid, compute_metrics=False)"
   ]
  },
  {
   "cell_type": "code",
   "execution_count": 40,
   "id": "36251679",
   "metadata": {},
   "outputs": [
    {
     "name": "stderr",
     "output_type": "stream",
     "text": [
      "/Users/dep/opt/miniforge3/envs/iblenv-x86/lib/python3.10/site-packages/sklearn/model_selection/_split.py:776: UserWarning: The least populated class in y has only 1 members, which is less than n_splits=5.\n",
      "  warnings.warn(\n",
      "/Users/dep/opt/miniforge3/envs/iblenv-x86/lib/python3.10/site-packages/sklearn/model_selection/_split.py:776: UserWarning: The least populated class in y has only 1 members, which is less than n_splits=5.\n",
      "  warnings.warn(\n",
      "/Users/dep/opt/miniforge3/envs/iblenv-x86/lib/python3.10/site-packages/sklearn/model_selection/_split.py:776: UserWarning: The least populated class in y has only 2 members, which is less than n_splits=5.\n",
      "  warnings.warn(\n",
      "/Users/dep/opt/miniforge3/envs/iblenv-x86/lib/python3.10/site-packages/sklearn/model_selection/_split.py:776: UserWarning: The least populated class in y has only 2 members, which is less than n_splits=5.\n",
      "  warnings.warn(\n",
      "/Users/dep/opt/miniforge3/envs/iblenv-x86/lib/python3.10/site-packages/sklearn/_loss/link.py:174: RuntimeWarning: divide by zero encountered in log\n",
      "  return np.log(y_pred, out=out)\n",
      "/Users/dep/opt/miniforge3/envs/iblenv-x86/lib/python3.10/site-packages/sklearn/_loss/link.py:174: RuntimeWarning: divide by zero encountered in log\n",
      "  return np.log(y_pred, out=out)\n",
      "/Users/dep/opt/miniforge3/envs/iblenv-x86/lib/python3.10/site-packages/sklearn/model_selection/_split.py:776: UserWarning: The least populated class in y has only 4 members, which is less than n_splits=5.\n",
      "  warnings.warn(\n",
      "/Users/dep/opt/miniforge3/envs/iblenv-x86/lib/python3.10/site-packages/sklearn/model_selection/_split.py:776: UserWarning: The least populated class in y has only 4 members, which is less than n_splits=5.\n",
      "  warnings.warn(\n",
      "/Users/dep/opt/miniforge3/envs/iblenv-x86/lib/python3.10/site-packages/sklearn/model_selection/_split.py:776: UserWarning: The least populated class in y has only 2 members, which is less than n_splits=5.\n",
      "  warnings.warn(\n",
      "/Users/dep/opt/miniforge3/envs/iblenv-x86/lib/python3.10/site-packages/sklearn/model_selection/_split.py:776: UserWarning: The least populated class in y has only 2 members, which is less than n_splits=5.\n",
      "  warnings.warn(\n",
      "/Users/dep/opt/miniforge3/envs/iblenv-x86/lib/python3.10/site-packages/sklearn/model_selection/_split.py:776: UserWarning: The least populated class in y has only 2 members, which is less than n_splits=5.\n",
      "  warnings.warn(\n",
      "/Users/dep/opt/miniforge3/envs/iblenv-x86/lib/python3.10/site-packages/sklearn/model_selection/_split.py:776: UserWarning: The least populated class in y has only 2 members, which is less than n_splits=5.\n",
      "  warnings.warn(\n",
      "/Users/dep/opt/miniforge3/envs/iblenv-x86/lib/python3.10/site-packages/sklearn/model_selection/_split.py:776: UserWarning: The least populated class in y has only 1 members, which is less than n_splits=5.\n",
      "  warnings.warn(\n",
      "/Users/dep/opt/miniforge3/envs/iblenv-x86/lib/python3.10/site-packages/sklearn/model_selection/_split.py:776: UserWarning: The least populated class in y has only 1 members, which is less than n_splits=5.\n",
      "  warnings.warn(\n",
      "/Users/dep/opt/miniforge3/envs/iblenv-x86/lib/python3.10/site-packages/sklearn/model_selection/_split.py:776: UserWarning: The least populated class in y has only 1 members, which is less than n_splits=5.\n",
      "  warnings.warn(\n",
      "/Users/dep/opt/miniforge3/envs/iblenv-x86/lib/python3.10/site-packages/sklearn/model_selection/_split.py:776: UserWarning: The least populated class in y has only 1 members, which is less than n_splits=5.\n",
      "  warnings.warn(\n",
      "/Users/dep/opt/miniforge3/envs/iblenv-x86/lib/python3.10/site-packages/sklearn/model_selection/_split.py:776: UserWarning: The least populated class in y has only 1 members, which is less than n_splits=5.\n",
      "  warnings.warn(\n",
      "/Users/dep/opt/miniforge3/envs/iblenv-x86/lib/python3.10/site-packages/sklearn/model_selection/_split.py:776: UserWarning: The least populated class in y has only 1 members, which is less than n_splits=5.\n",
      "  warnings.warn(\n",
      "/Users/dep/opt/miniforge3/envs/iblenv-x86/lib/python3.10/site-packages/sklearn/model_selection/_split.py:776: UserWarning: The least populated class in y has only 2 members, which is less than n_splits=5.\n",
      "  warnings.warn(\n",
      "/Users/dep/opt/miniforge3/envs/iblenv-x86/lib/python3.10/site-packages/sklearn/model_selection/_split.py:776: UserWarning: The least populated class in y has only 2 members, which is less than n_splits=5.\n",
      "  warnings.warn(\n",
      "/Users/dep/opt/miniforge3/envs/iblenv-x86/lib/python3.10/site-packages/sklearn/model_selection/_split.py:776: UserWarning: The least populated class in y has only 1 members, which is less than n_splits=5.\n",
      "  warnings.warn(\n",
      "/Users/dep/opt/miniforge3/envs/iblenv-x86/lib/python3.10/site-packages/sklearn/model_selection/_split.py:776: UserWarning: The least populated class in y has only 1 members, which is less than n_splits=5.\n",
      "  warnings.warn(\n",
      "/Users/dep/opt/miniforge3/envs/iblenv-x86/lib/python3.10/site-packages/sklearn/model_selection/_split.py:776: UserWarning: The least populated class in y has only 1 members, which is less than n_splits=5.\n",
      "  warnings.warn(\n",
      "/Users/dep/opt/miniforge3/envs/iblenv-x86/lib/python3.10/site-packages/sklearn/model_selection/_split.py:776: UserWarning: The least populated class in y has only 1 members, which is less than n_splits=5.\n",
      "  warnings.warn(\n",
      "/Users/dep/opt/miniforge3/envs/iblenv-x86/lib/python3.10/site-packages/sklearn/model_selection/_split.py:776: UserWarning: The least populated class in y has only 2 members, which is less than n_splits=5.\n",
      "  warnings.warn(\n",
      "/Users/dep/opt/miniforge3/envs/iblenv-x86/lib/python3.10/site-packages/sklearn/model_selection/_split.py:776: UserWarning: The least populated class in y has only 2 members, which is less than n_splits=5.\n",
      "  warnings.warn(\n",
      "/Users/dep/opt/miniforge3/envs/iblenv-x86/lib/python3.10/site-packages/sklearn/model_selection/_split.py:776: UserWarning: The least populated class in y has only 1 members, which is less than n_splits=5.\n",
      "  warnings.warn(\n",
      "/Users/dep/opt/miniforge3/envs/iblenv-x86/lib/python3.10/site-packages/sklearn/model_selection/_split.py:776: UserWarning: The least populated class in y has only 1 members, which is less than n_splits=5.\n",
      "  warnings.warn(\n",
      "/Users/dep/opt/miniforge3/envs/iblenv-x86/lib/python3.10/site-packages/sklearn/model_selection/_split.py:776: UserWarning: The least populated class in y has only 3 members, which is less than n_splits=5.\n",
      "  warnings.warn(\n",
      "/Users/dep/opt/miniforge3/envs/iblenv-x86/lib/python3.10/site-packages/sklearn/model_selection/_split.py:776: UserWarning: The least populated class in y has only 3 members, which is less than n_splits=5.\n",
      "  warnings.warn(\n",
      "/Users/dep/opt/miniforge3/envs/iblenv-x86/lib/python3.10/site-packages/sklearn/_loss/link.py:174: RuntimeWarning: divide by zero encountered in log\n",
      "  return np.log(y_pred, out=out)\n",
      "/Users/dep/opt/miniforge3/envs/iblenv-x86/lib/python3.10/site-packages/sklearn/_loss/link.py:174: RuntimeWarning: divide by zero encountered in log\n",
      "  return np.log(y_pred, out=out)\n",
      "/Users/dep/opt/miniforge3/envs/iblenv-x86/lib/python3.10/site-packages/sklearn/_loss/link.py:174: RuntimeWarning: divide by zero encountered in log\n",
      "  return np.log(y_pred, out=out)\n",
      "/Users/dep/opt/miniforge3/envs/iblenv-x86/lib/python3.10/site-packages/sklearn/_loss/link.py:174: RuntimeWarning: divide by zero encountered in log\n",
      "  return np.log(y_pred, out=out)\n",
      "/Users/dep/opt/miniforge3/envs/iblenv-x86/lib/python3.10/site-packages/sklearn/_loss/link.py:174: RuntimeWarning: divide by zero encountered in log\n",
      "  return np.log(y_pred, out=out)\n",
      "/Users/dep/opt/miniforge3/envs/iblenv-x86/lib/python3.10/site-packages/sklearn/_loss/link.py:174: RuntimeWarning: divide by zero encountered in log\n",
      "  return np.log(y_pred, out=out)\n",
      "/Users/dep/opt/miniforge3/envs/iblenv-x86/lib/python3.10/site-packages/sklearn/_loss/link.py:174: RuntimeWarning: divide by zero encountered in log\n",
      "  return np.log(y_pred, out=out)\n",
      "/Users/dep/opt/miniforge3/envs/iblenv-x86/lib/python3.10/site-packages/sklearn/model_selection/_split.py:776: UserWarning: The least populated class in y has only 2 members, which is less than n_splits=5.\n",
      "  warnings.warn(\n",
      "/Users/dep/opt/miniforge3/envs/iblenv-x86/lib/python3.10/site-packages/sklearn/model_selection/_split.py:776: UserWarning: The least populated class in y has only 2 members, which is less than n_splits=5.\n",
      "  warnings.warn(\n",
      "/Users/dep/opt/miniforge3/envs/iblenv-x86/lib/python3.10/site-packages/sklearn/model_selection/_split.py:776: UserWarning: The least populated class in y has only 4 members, which is less than n_splits=5.\n",
      "  warnings.warn(\n",
      "/Users/dep/opt/miniforge3/envs/iblenv-x86/lib/python3.10/site-packages/sklearn/model_selection/_split.py:776: UserWarning: The least populated class in y has only 4 members, which is less than n_splits=5.\n",
      "  warnings.warn(\n",
      "/Users/dep/opt/miniforge3/envs/iblenv-x86/lib/python3.10/site-packages/sklearn/model_selection/_split.py:776: UserWarning: The least populated class in y has only 1 members, which is less than n_splits=5.\n",
      "  warnings.warn(\n",
      "/Users/dep/opt/miniforge3/envs/iblenv-x86/lib/python3.10/site-packages/sklearn/model_selection/_split.py:776: UserWarning: The least populated class in y has only 1 members, which is less than n_splits=5.\n",
      "  warnings.warn(\n",
      "/Users/dep/opt/miniforge3/envs/iblenv-x86/lib/python3.10/site-packages/sklearn/model_selection/_split.py:776: UserWarning: The least populated class in y has only 4 members, which is less than n_splits=5.\n",
      "  warnings.warn(\n",
      "/Users/dep/opt/miniforge3/envs/iblenv-x86/lib/python3.10/site-packages/sklearn/model_selection/_split.py:776: UserWarning: The least populated class in y has only 4 members, which is less than n_splits=5.\n",
      "  warnings.warn(\n",
      "/Users/dep/opt/miniforge3/envs/iblenv-x86/lib/python3.10/site-packages/sklearn/model_selection/_split.py:776: UserWarning: The least populated class in y has only 4 members, which is less than n_splits=5.\n",
      "  warnings.warn(\n",
      "/Users/dep/opt/miniforge3/envs/iblenv-x86/lib/python3.10/site-packages/sklearn/model_selection/_split.py:776: UserWarning: The least populated class in y has only 4 members, which is less than n_splits=5.\n",
      "  warnings.warn(\n",
      "/Users/dep/opt/miniforge3/envs/iblenv-x86/lib/python3.10/site-packages/sklearn/model_selection/_split.py:776: UserWarning: The least populated class in y has only 2 members, which is less than n_splits=5.\n",
      "  warnings.warn(\n",
      "/Users/dep/opt/miniforge3/envs/iblenv-x86/lib/python3.10/site-packages/sklearn/model_selection/_split.py:776: UserWarning: The least populated class in y has only 2 members, which is less than n_splits=5.\n",
      "  warnings.warn(\n"
     ]
    }
   ],
   "source": [
    "# test of function contents data preperation\n",
    "\n",
    "# function parameters and defaults\n",
    "# TODO: minimum spikes for estimatation? (speed benefit, lack of convergence problems)\n",
    "# TODO: allow sec or bin? test for only one\n",
    "lag=.08\n",
    "# TODO: allow for space-time RF\n",
    "prior_frames=1\n",
    "glm_model = sk_lm.PoissonRegressor(fit_intercept=False)\n",
    "# glm_model = sk_lm.Lasso(fit_intercept=False)\n",
    "# glm_model = sk_lm.LassoCV(fit_intercept=True, n_alphas=25, cv=sk_ms.StratifiedKFold())  # LassoCV requires cv argument with stratified\n",
    "glm_model_cv_hyper_param_dist = dict(alpha=sp_stats.gamma(a=1.05))\n",
    "# glm_model_cv_hyper_param_dist = None\n",
    "\n",
    "# function body\n",
    "rfm_frame_rate = rfm['frame_rate']\n",
    "rfm_frame_dwell_time = 1/rfm_frame_rate\n",
    "rfm_frame_times = rfm['times']\n",
    "# adjust frame times to be centered\n",
    "rfm_frame_times = rfm_frame_times + (rfm_frame_dwell_time/2)\n",
    "rfm_start_time = rfm_frame_times[0]\n",
    "spike_times = spikes['times']\n",
    "spike_clusters = spikes['clusters']\n",
    "binned_spikes, binned_times, depths = bincount2D(spike_times, spike_clusters, rfm_frame_dwell_time, 0, None, None)\n",
    "# adjust binned spike times to be centered\n",
    "binned_spike_times = binned_times - (rfm_frame_dwell_time/2)\n",
    "# get rfm spikes that follow a frame by lag\n",
    "rfm_spike_time_ndx = np.nonzero(binned_spike_times > (rfm_start_time + lag))[0]\n",
    "rfm_spike_time_ndx = rfm_spike_time_ndx[0:rfm_frame_times.shape[0]]\n",
    "observed_spike_times = binned_spike_times[rfm_spike_time_ndx]\n",
    "observed_spikes = binned_spikes[:,rfm_spike_time_ndx]\n",
    "observed_pixels = rfm['frames']\n",
    "observed_pixels = observed_pixels.reshape([observed_pixels.shape[0], -1])\n",
    "# for each cluster with non-zero spike counts, get a cv optimized pglm fit\n",
    "# TODO: output 'bunch'? Made of NP NDarrays?\n",
    "# TODO: allow for space-time estimation?\n",
    "estimated_rf = np.full((observed_pixels.shape[0],rfm['x_dim'],rfm['y_dim']), np.nan)\n",
    "estimated_rf_alpha = np.full((observed_pixels.shape[0]), np.nan)\n",
    "estimated_rf_null_dev = np.full((observed_pixels.shape[0]), np.nan)\n",
    "estimated_rf_dev = np.full((observed_pixels.shape[0]), np.nan)\n",
    "estimated_rf_p = np.full((observed_pixels.shape[0]), np.nan)\n",
    "for cluster_ndx in np.nonzero(np.apply_along_axis(np.max, 1, observed_spikes)>0)[0]:\n",
    "    # CV over hyperparameters, if required\n",
    "    if glm_model_cv_hyper_param_dist is not None:\n",
    "        # we will just a gamma dist for alpha, with a=1.05 for most density between 0 and 1\n",
    "        glm_hyper_cv = sk_ms.RandomizedSearchCV(glm_model, glm_model_cv_hyper_param_dist, cv=sk_ms.StratifiedKFold(), n_iter=25) # StratifiedShuffleSplit fails if class has < 2 members\n",
    "        # hyper_fit = cvpglm.fit(observed_pixels, observed_spikes[cluster_ndx,:])\n",
    "        glm_hyper_fit = glm_hyper_cv.fit(observed_pixels, observed_spikes[cluster_ndx,:])\n",
    "        glm_best_fit = glm_hyper_fit.best_estimator_\n",
    "    else:\n",
    "        glm_best_fit = glm_model.fit(observed_pixels, observed_spikes[cluster_ndx,:])\n",
    "    glm_null = glm_hyper_fit.fit(np.ones((observed_pixels.shape[0],1)), observed_spikes[cluster_ndx,:])\n",
    "    glm_best_fit_permute_p = sk_ms.permutation_test_score(glm_best_fit, observed_pixels, observed_spikes[cluster_ndx,:], n_permutations=50)\n",
    "    estimated_rf_null_dev[cluster_ndx] = glm_null.score(np.ones((observed_pixels.shape[0],1)), observed_spikes[cluster_ndx,:])\n",
    "    estimated_rf_dev[cluster_ndx] = glm_best_fit_permute_p[0]  # TODO: this is score, not always the same\n",
    "    estimated_rf_alpha[cluster_ndx] = glm_best_fit.get_params()['alpha']  # TODO: need to get from dist dict or somewhere, fails for LassoCV\n",
    "    # estimated_rf_alpha[cluster_ndx] = glm_best_fit.alpha_  # TODO: estimators with builtin cv store hyper elsewher, eg LassoCV\n",
    "    estimated_rf[cluster_ndx,:,:] = glm_best_fit.coef_.reshape((rfm['x_dim'],rfm['y_dim']))\n",
    "    estimated_rf_p[cluster_ndx] = glm_best_fit_permute_p[2]"
   ]
  },
  {
   "cell_type": "code",
   "execution_count": 105,
   "id": "f883d022",
   "metadata": {},
   "outputs": [
    {
     "ename": "IndexError",
     "evalue": "invalid index to scalar variable.",
     "output_type": "error",
     "traceback": [
      "\u001b[0;31m---------------------------------------------------------------------------\u001b[0m",
      "\u001b[0;31mIndexError\u001b[0m                                Traceback (most recent call last)",
      "Cell \u001b[0;32mIn[105], line 1\u001b[0m\n\u001b[0;32m----> 1\u001b[0m \u001b[43mestimated_rf_null_dev\u001b[49m\u001b[43m[\u001b[49m\u001b[43mcluster_ndx\u001b[49m\u001b[43m]\u001b[49m\n",
      "\u001b[0;31mIndexError\u001b[0m: invalid index to scalar variable."
     ]
    }
   ],
   "source": [
    "estimated_rf_null_dev.shape"
   ]
  },
  {
   "cell_type": "code",
   "execution_count": 98,
   "id": "b8853eb8",
   "metadata": {},
   "outputs": [
    {
     "data": {
      "text/plain": [
       "-1150.7552936813745"
      ]
     },
     "execution_count": 98,
     "metadata": {},
     "output_type": "execute_result"
    }
   ],
   "source": []
  },
  {
   "cell_type": "code",
   "execution_count": 99,
   "id": "d6804af6",
   "metadata": {},
   "outputs": [
    {
     "data": {
      "text/plain": [
       "-13.394960773215027"
      ]
     },
     "execution_count": 99,
     "metadata": {},
     "output_type": "execute_result"
    }
   ],
   "source": [
    "glm_best_fit.score(observed_pixels, observed_spikes[cluster_ndx,:])"
   ]
  },
  {
   "cell_type": "code",
   "execution_count": 94,
   "id": "98c7d79e",
   "metadata": {},
   "outputs": [
    {
     "data": {
      "text/plain": [
       "(17999,)"
      ]
     },
     "execution_count": 94,
     "metadata": {},
     "output_type": "execute_result"
    }
   ],
   "source": [
    "np.ones((observed_pixels.shape[0])).shape"
   ]
  },
  {
   "cell_type": "code",
   "execution_count": 23,
   "id": "89e06573",
   "metadata": {},
   "outputs": [
    {
     "data": {
      "text/plain": [
       "(array([20.,  1.,  4.,  1.,  0.,  1.,  0.,  0.,  1.,  1.]),\n",
       " array([-0.62133912,  0.91572357,  2.45278625,  3.98984894,  5.52691162,\n",
       "         7.06397431,  8.60103699, 10.13809968, 11.67516236, 13.21222505,\n",
       "        14.74928773]),\n",
       " <BarContainer object of 10 artists>)"
      ]
     },
     "execution_count": 23,
     "metadata": {},
     "output_type": "execute_result"
    },
    {
     "data": {
      "image/png": "[encoded data removed]",
      "text/plain": [
       "<Figure size 640x480 with 1 Axes>"
      ]
     },
     "metadata": {},
     "output_type": "display_data"
    }
   ],
   "source": [
    "plt.hist(estimated_rf_dev-estimated_rf_null_dev)"
   ]
  },
  {
   "cell_type": "code",
   "execution_count": 41,
   "id": "ec5d94ff",
   "metadata": {},
   "outputs": [
    {
     "data": {
      "text/plain": [
       "array([ 2,  3,  4,  5,  7,  9, 12, 14, 15, 17, 18, 21, 22, 23, 25, 26, 27,\n",
       "       28, 29, 30, 31, 32, 33, 34])"
      ]
     },
     "execution_count": 41,
     "metadata": {},
     "output_type": "execute_result"
    }
   ],
   "source": [
    "np.nonzero(estimated_rf_dev>estimated_rf_null_dev)[0]"
   ]
  },
  {
   "cell_type": "code",
   "execution_count": 42,
   "id": "394d038a",
   "metadata": {},
   "outputs": [
    {
     "data": {
      "text/plain": [
       "array([1])"
      ]
     },
     "execution_count": 42,
     "metadata": {},
     "output_type": "execute_result"
    }
   ],
   "source": [
    "np.nonzero(estimated_rf_p < 0.05)[0]\n",
    "\n",
    "# estimated_rf[cluster_ndx]"
   ]
  },
  {
   "cell_type": "code",
   "execution_count": 24,
   "id": "f8b6cc8a",
   "metadata": {},
   "outputs": [
    {
     "data": {
      "text/plain": [
       "array([], dtype=int64)"
      ]
     },
     "execution_count": 24,
     "metadata": {},
     "output_type": "execute_result"
    }
   ],
   "source": [
    "np.intersect1d(np.nonzero(estimated_rf_dev>estimated_rf_null_dev)[0], np.nonzero(estimated_rf_p < 0.05)[0])"
   ]
  },
  {
   "cell_type": "code",
   "execution_count": 28,
   "id": "fea22378",
   "metadata": {},
   "outputs": [
    {
     "data": {
      "image/png": "[encoded data removed]",
      "text/plain": [
       "<Figure size 640x480 with 1 Axes>"
      ]
     },
     "metadata": {},
     "output_type": "display_data"
    }
   ],
   "source": [
    "foo = plt.hist(estimated_rf_p,100,)"
   ]
  },
  {
   "cell_type": "code",
   "execution_count": 41,
   "id": "ac5f9aa1",
   "metadata": {},
   "outputs": [
    {
     "data": {
      "image/png": "[encoded data removed]",
      "text/plain": [
       "<Figure size 640x480 with 1 Axes>"
      ]
     },
     "metadata": {},
     "output_type": "display_data"
    }
   ],
   "source": [
    "foo = plt.hist(estimated_rf_alpha, 100)"
   ]
  },
  {
   "cell_type": "code",
   "execution_count": 48,
   "id": "32bcdaac",
   "metadata": {},
   "outputs": [
    {
     "name": "stdout",
     "output_type": "stream",
     "text": [
      "Alpha:  0.021374114260649762\n",
      "perm p-val: 1.0\n"
     ]
    },
    {
     "data": {
      "image/png": "[encoded data removed]",
      "text/plain": [
       "<Figure size 640x480 with 2 Axes>"
      ]
     },
     "metadata": {},
     "output_type": "display_data"
    }
   ],
   "source": [
    "clust_id = 24\n",
    "coef_range = np.max(np.abs(estimated_rf[clust_id,:,:])) \n",
    "plt.imshow(estimated_rf[clust_id,:,:], vmin=-coef_range, vmax=coef_range)\n",
    "plt.colorbar()\n",
    "print(\"Alpha: \", estimated_rf_alpha[clust_id])\n",
    "print(\"perm p-val:\", estimated_rf_p[clust_id])"
   ]
  },
  {
   "cell_type": "code",
   "execution_count": 46,
   "id": "d4a4110e",
   "metadata": {},
   "outputs": [
    {
     "data": {
      "text/plain": [
       "0.013875178812117545"
      ]
     },
     "execution_count": 46,
     "metadata": {},
     "output_type": "execute_result"
    }
   ],
   "source": [
    "\n"
   ]
  },
  {
   "cell_type": "code",
   "execution_count": 89,
   "id": "ba455b10",
   "metadata": {},
   "outputs": [
    {
     "data": {
      "text/plain": [
       "0.00042397662191040464"
      ]
     },
     "execution_count": 89,
     "metadata": {},
     "output_type": "execute_result"
    }
   ],
   "source": [
    "tmp.score(observed_pixels, observed_spikes[cluster_ndx,:])"
   ]
  },
  {
   "cell_type": "code",
   "execution_count": 21,
   "id": "526e019a",
   "metadata": {},
   "outputs": [
    {
     "name": "stdout",
     "output_type": "stream",
     "text": [
      "Frame times (first 10):  [3669.89984078 3669.91650744 3669.93317411 3669.94984078 3669.96650744\n",
      " 3669.98317411 3669.99984078 3670.01650744 3670.03317411 3670.04984078]\n",
      "Spike times (first 10):  [3669.90859658 3669.92526325 3669.94192992 3669.95859658 3669.97526325\n",
      " 3669.99192992 3670.00859658 3670.02526325 3670.04192992 3670.05859658]\n"
     ]
    }
   ],
   "source": [
    "print(\"Frame times (first 10): \", rfm_frame_times[0:10])\n",
    "print(\"Spike times (first 10): \", observed_spike_times[0:10])\n"
   ]
  },
  {
   "cell_type": "code",
   "execution_count": 12,
   "id": "aee4e708",
   "metadata": {},
   "outputs": [
    {
     "data": {
      "text/plain": [
       "[<matplotlib.lines.Line2D at 0x15bb0ea40>]"
      ]
     },
     "execution_count": 12,
     "metadata": {},
     "output_type": "execute_result"
    },
    {
     "data": {
      "image/png": "[encoded data removed]",
      "text/plain": [
       "<Figure size 640x480 with 1 Axes>"
      ]
     },
     "metadata": {},
     "output_type": "display_data"
    }
   ],
   "source": [
    "x = np.linspace(0,10,1000)\n",
    "plt.plot(x, sp_stats.gamma.pdf(x, 1.05))"
   ]
  },
  {
   "cell_type": "code",
   "execution_count": 35,
   "id": "78317359",
   "metadata": {},
   "outputs": [],
   "source": [
    "rf_clusters=np.unique(spike_clusters)\n",
    "    \n",
    "area_label=clusters['atlas_id'][rf_clusters].to_numpy()\n",
    "    \n",
    "beryl_label=ba.regions.remap(area_label, source_map='Allen', target_map='Beryl')\n",
    "############ return cluster id ########################\n",
    "QC_cluster_id=clusters['cluster_id'][rf_clusters].to_numpy()  "
   ]
  },
  {
   "cell_type": "code",
   "execution_count": 72,
   "id": "3b6a50f3",
   "metadata": {},
   "outputs": [],
   "source": []
  },
  {
   "cell_type": "code",
   "execution_count": 73,
   "id": "e1d696dc",
   "metadata": {},
   "outputs": [
    {
     "data": {
      "text/plain": [
       "(array([1.5332e+04, 1.3480e+03, 6.3800e+02, 0.0000e+00, 3.4300e+02,\n",
       "        2.0600e+02, 0.0000e+00, 8.8000e+01, 4.0000e+01, 3.0000e+00]),\n",
       " array([0. , 0.7, 1.4, 2.1, 2.8, 3.5, 4.2, 4.9, 5.6, 6.3, 7. ]),\n",
       " <BarContainer object of 10 artists>)"
      ]
     },
     "execution_count": 73,
     "metadata": {},
     "output_type": "execute_result"
    },
    {
     "data": {
      "image/png": "[encoded data removed]",
      "text/plain": [
       "<Figure size 640x480 with 1 Axes>"
      ]
     },
     "metadata": {},
     "output_type": "display_data"
    }
   ],
   "source": [
    "plt.hist(y.ravel())"
   ]
  },
  {
   "cell_type": "code",
   "execution_count": 62,
   "id": "76dd83fc",
   "metadata": {},
   "outputs": [
    {
     "data": {
      "text/plain": [
       "(array([[208.,   0.,   0., ...,   0.,   0., 130.],\n",
       "        [143.,   0.,   0., ...,   0.,   0., 104.],\n",
       "        [247.,   0.,   0., ...,   0.,   0., 156.],\n",
       "        ...,\n",
       "        [156.,   0.,   0., ...,   0.,   0., 143.],\n",
       "        [208.,   0.,   0., ...,   0.,   0., 234.],\n",
       "        [208.,   0.,   0., ...,   0.,   0., 156.]]),\n",
       " array([-0.50196078, -0.40196078, -0.30196078, -0.20196078, -0.10196078,\n",
       "        -0.00196078,  0.09803922,  0.19803922,  0.29803922,  0.39803922,\n",
       "         0.49803922]),\n",
       " <a list of 225 BarContainer objects>)"
      ]
     },
     "execution_count": 62,
     "metadata": {},
     "output_type": "execute_result"
    },
    {
     "data": {
      "image/png": "[encoded data removed]",
      "text/plain": [
       "<Figure size 640x480 with 1 Axes>"
      ]
     },
     "metadata": {},
     "output_type": "display_data"
    }
   ],
   "source": [
    "plt.hist(x[1:,:])"
   ]
  },
  {
   "cell_type": "code",
   "execution_count": 74,
   "id": "b33aedaf",
   "metadata": {},
   "outputs": [
    {
     "data": {
      "text/html": [
       "<style>#sk-container-id-12 {\n",
       "  /* Definition of color scheme common for light and dark mode */\n",
       "  --sklearn-color-text: black;\n",
       "  --sklearn-color-line: gray;\n",
       "  /* Definition of color scheme for unfitted estimators */\n",
       "  --sklearn-color-unfitted-level-0: #fff5e6;\n",
       "  --sklearn-color-unfitted-level-1: #f6e4d2;\n",
       "  --sklearn-color-unfitted-level-2: #ffe0b3;\n",
       "  --sklearn-color-unfitted-level-3: chocolate;\n",
       "  /* Definition of color scheme for fitted estimators */\n",
       "  --sklearn-color-fitted-level-0: #f0f8ff;\n",
       "  --sklearn-color-fitted-level-1: #d4ebff;\n",
       "  --sklearn-color-fitted-level-2: #b3dbfd;\n",
       "  --sklearn-color-fitted-level-3: cornflowerblue;\n",
       "\n",
       "  /* Specific color for light theme */\n",
       "  --sklearn-color-text-on-default-background: var(--sg-text-color, var(--theme-code-foreground, var(--jp-content-font-color1, black)));\n",
       "  --sklearn-color-background: var(--sg-background-color, var(--theme-background, var(--jp-layout-color0, white)));\n",
       "  --sklearn-color-border-box: var(--sg-text-color, var(--theme-code-foreground, var(--jp-content-font-color1, black)));\n",
       "  --sklearn-color-icon: #696969;\n",
       "\n",
       "  @media (prefers-color-scheme: dark) {\n",
       "    /* Redefinition of color scheme for dark theme */\n",
       "    --sklearn-color-text-on-default-background: var(--sg-text-color, var(--theme-code-foreground, var(--jp-content-font-color1, white)));\n",
       "    --sklearn-color-background: var(--sg-background-color, var(--theme-background, var(--jp-layout-color0, #111)));\n",
       "    --sklearn-color-border-box: var(--sg-text-color, var(--theme-code-foreground, var(--jp-content-font-color1, white)));\n",
       "    --sklearn-color-icon: #878787;\n",
       "  }\n",
       "}\n",
       "\n",
       "#sk-container-id-12 {\n",
       "  color: var(--sklearn-color-text);\n",
       "}\n",
       "\n",
       "#sk-container-id-12 pre {\n",
       "  padding: 0;\n",
       "}\n",
       "\n",
       "#sk-container-id-12 input.sk-hidden--visually {\n",
       "  border: 0;\n",
       "  clip: rect(1px 1px 1px 1px);\n",
       "  clip: rect(1px, 1px, 1px, 1px);\n",
       "  height: 1px;\n",
       "  margin: -1px;\n",
       "  overflow: hidden;\n",
       "  padding: 0;\n",
       "  position: absolute;\n",
       "  width: 1px;\n",
       "}\n",
       "\n",
       "#sk-container-id-12 div.sk-dashed-wrapped {\n",
       "  border: 1px dashed var(--sklearn-color-line);\n",
       "  margin: 0 0.4em 0.5em 0.4em;\n",
       "  box-sizing: border-box;\n",
       "  padding-bottom: 0.4em;\n",
       "  background-color: var(--sklearn-color-background);\n",
       "}\n",
       "\n",
       "#sk-container-id-12 div.sk-container {\n",
       "  /* jupyter's `normalize.less` sets `[hidden] { display: none; }`\n",
       "     but bootstrap.min.css set `[hidden] { display: none !important; }`\n",
       "     so we also need the `!important` here to be able to override the\n",
       "     default hidden behavior on the sphinx rendered scikit-learn.org.\n",
       "     See: https://github.com/scikit-learn/scikit-learn/issues/21755 */\n",
       "  display: inline-block !important;\n",
       "  position: relative;\n",
       "}\n",
       "\n",
       "#sk-container-id-12 div.sk-text-repr-fallback {\n",
       "  display: none;\n",
       "}\n",
       "\n",
       "div.sk-parallel-item,\n",
       "div.sk-serial,\n",
       "div.sk-item {\n",
       "  /* draw centered vertical line to link estimators */\n",
       "  background-image: linear-gradient(var(--sklearn-color-text-on-default-background), var(--sklearn-color-text-on-default-background));\n",
       "  background-size: 2px 100%;\n",
       "  background-repeat: no-repeat;\n",
       "  background-position: center center;\n",
       "}\n",
       "\n",
       "/* Parallel-specific style estimator block */\n",
       "\n",
       "#sk-container-id-12 div.sk-parallel-item::after {\n",
       "  content: \"\";\n",
       "  width: 100%;\n",
       "  border-bottom: 2px solid var(--sklearn-color-text-on-default-background);\n",
       "  flex-grow: 1;\n",
       "}\n",
       "\n",
       "#sk-container-id-12 div.sk-parallel {\n",
       "  display: flex;\n",
       "  align-items: stretch;\n",
       "  justify-content: center;\n",
       "  background-color: var(--sklearn-color-background);\n",
       "  position: relative;\n",
       "}\n",
       "\n",
       "#sk-container-id-12 div.sk-parallel-item {\n",
       "  display: flex;\n",
       "  flex-direction: column;\n",
       "}\n",
       "\n",
       "#sk-container-id-12 div.sk-parallel-item:first-child::after {\n",
       "  align-self: flex-end;\n",
       "  width: 50%;\n",
       "}\n",
       "\n",
       "#sk-container-id-12 div.sk-parallel-item:last-child::after {\n",
       "  align-self: flex-start;\n",
       "  width: 50%;\n",
       "}\n",
       "\n",
       "#sk-container-id-12 div.sk-parallel-item:only-child::after {\n",
       "  width: 0;\n",
       "}\n",
       "\n",
       "/* Serial-specific style estimator block */\n",
       "\n",
       "#sk-container-id-12 div.sk-serial {\n",
       "  display: flex;\n",
       "  flex-direction: column;\n",
       "  align-items: center;\n",
       "  background-color: var(--sklearn-color-background);\n",
       "  padding-right: 1em;\n",
       "  padding-left: 1em;\n",
       "}\n",
       "\n",
       "\n",
       "/* Toggleable style: style used for estimator/Pipeline/ColumnTransformer box that is\n",
       "clickable and can be expanded/collapsed.\n",
       "- Pipeline and ColumnTransformer use this feature and define the default style\n",
       "- Estimators will overwrite some part of the style using the `sk-estimator` class\n",
       "*/\n",
       "\n",
       "/* Pipeline and ColumnTransformer style (default) */\n",
       "\n",
       "#sk-container-id-12 div.sk-toggleable {\n",
       "  /* Default theme specific background. It is overwritten whether we have a\n",
       "  specific estimator or a Pipeline/ColumnTransformer */\n",
       "  background-color: var(--sklearn-color-background);\n",
       "}\n",
       "\n",
       "/* Toggleable label */\n",
       "#sk-container-id-12 label.sk-toggleable__label {\n",
       "  cursor: pointer;\n",
       "  display: block;\n",
       "  width: 100%;\n",
       "  margin-bottom: 0;\n",
       "  padding: 0.5em;\n",
       "  box-sizing: border-box;\n",
       "  text-align: center;\n",
       "}\n",
       "\n",
       "#sk-container-id-12 label.sk-toggleable__label-arrow:before {\n",
       "  /* Arrow on the left of the label */\n",
       "  content: \"▸\";\n",
       "  float: left;\n",
       "  margin-right: 0.25em;\n",
       "  color: var(--sklearn-color-icon);\n",
       "}\n",
       "\n",
       "#sk-container-id-12 label.sk-toggleable__label-arrow:hover:before {\n",
       "  color: var(--sklearn-color-text);\n",
       "}\n",
       "\n",
       "/* Toggleable content - dropdown */\n",
       "\n",
       "#sk-container-id-12 div.sk-toggleable__content {\n",
       "  max-height: 0;\n",
       "  max-width: 0;\n",
       "  overflow: hidden;\n",
       "  text-align: left;\n",
       "  /* unfitted */\n",
       "  background-color: var(--sklearn-color-unfitted-level-0);\n",
       "}\n",
       "\n",
       "#sk-container-id-12 div.sk-toggleable__content.fitted {\n",
       "  /* fitted */\n",
       "  background-color: var(--sklearn-color-fitted-level-0);\n",
       "}\n",
       "\n",
       "#sk-container-id-12 div.sk-toggleable__content pre {\n",
       "  margin: 0.2em;\n",
       "  border-radius: 0.25em;\n",
       "  color: var(--sklearn-color-text);\n",
       "  /* unfitted */\n",
       "  background-color: var(--sklearn-color-unfitted-level-0);\n",
       "}\n",
       "\n",
       "#sk-container-id-12 div.sk-toggleable__content.fitted pre {\n",
       "  /* unfitted */\n",
       "  background-color: var(--sklearn-color-fitted-level-0);\n",
       "}\n",
       "\n",
       "#sk-container-id-12 input.sk-toggleable__control:checked~div.sk-toggleable__content {\n",
       "  /* Expand drop-down */\n",
       "  max-height: 200px;\n",
       "  max-width: 100%;\n",
       "  overflow: auto;\n",
       "}\n",
       "\n",
       "#sk-container-id-12 input.sk-toggleable__control:checked~label.sk-toggleable__label-arrow:before {\n",
       "  content: \"▾\";\n",
       "}\n",
       "\n",
       "/* Pipeline/ColumnTransformer-specific style */\n",
       "\n",
       "#sk-container-id-12 div.sk-label input.sk-toggleable__control:checked~label.sk-toggleable__label {\n",
       "  color: var(--sklearn-color-text);\n",
       "  background-color: var(--sklearn-color-unfitted-level-2);\n",
       "}\n",
       "\n",
       "#sk-container-id-12 div.sk-label.fitted input.sk-toggleable__control:checked~label.sk-toggleable__label {\n",
       "  background-color: var(--sklearn-color-fitted-level-2);\n",
       "}\n",
       "\n",
       "/* Estimator-specific style */\n",
       "\n",
       "/* Colorize estimator box */\n",
       "#sk-container-id-12 div.sk-estimator input.sk-toggleable__control:checked~label.sk-toggleable__label {\n",
       "  /* unfitted */\n",
       "  background-color: var(--sklearn-color-unfitted-level-2);\n",
       "}\n",
       "\n",
       "#sk-container-id-12 div.sk-estimator.fitted input.sk-toggleable__control:checked~label.sk-toggleable__label {\n",
       "  /* fitted */\n",
       "  background-color: var(--sklearn-color-fitted-level-2);\n",
       "}\n",
       "\n",
       "#sk-container-id-12 div.sk-label label.sk-toggleable__label,\n",
       "#sk-container-id-12 div.sk-label label {\n",
       "  /* The background is the default theme color */\n",
       "  color: var(--sklearn-color-text-on-default-background);\n",
       "}\n",
       "\n",
       "/* On hover, darken the color of the background */\n",
       "#sk-container-id-12 div.sk-label:hover label.sk-toggleable__label {\n",
       "  color: var(--sklearn-color-text);\n",
       "  background-color: var(--sklearn-color-unfitted-level-2);\n",
       "}\n",
       "\n",
       "/* Label box, darken color on hover, fitted */\n",
       "#sk-container-id-12 div.sk-label.fitted:hover label.sk-toggleable__label.fitted {\n",
       "  color: var(--sklearn-color-text);\n",
       "  background-color: var(--sklearn-color-fitted-level-2);\n",
       "}\n",
       "\n",
       "/* Estimator label */\n",
       "\n",
       "#sk-container-id-12 div.sk-label label {\n",
       "  font-family: monospace;\n",
       "  font-weight: bold;\n",
       "  display: inline-block;\n",
       "  line-height: 1.2em;\n",
       "}\n",
       "\n",
       "#sk-container-id-12 div.sk-label-container {\n",
       "  text-align: center;\n",
       "}\n",
       "\n",
       "/* Estimator-specific */\n",
       "#sk-container-id-12 div.sk-estimator {\n",
       "  font-family: monospace;\n",
       "  border: 1px dotted var(--sklearn-color-border-box);\n",
       "  border-radius: 0.25em;\n",
       "  box-sizing: border-box;\n",
       "  margin-bottom: 0.5em;\n",
       "  /* unfitted */\n",
       "  background-color: var(--sklearn-color-unfitted-level-0);\n",
       "}\n",
       "\n",
       "#sk-container-id-12 div.sk-estimator.fitted {\n",
       "  /* fitted */\n",
       "  background-color: var(--sklearn-color-fitted-level-0);\n",
       "}\n",
       "\n",
       "/* on hover */\n",
       "#sk-container-id-12 div.sk-estimator:hover {\n",
       "  /* unfitted */\n",
       "  background-color: var(--sklearn-color-unfitted-level-2);\n",
       "}\n",
       "\n",
       "#sk-container-id-12 div.sk-estimator.fitted:hover {\n",
       "  /* fitted */\n",
       "  background-color: var(--sklearn-color-fitted-level-2);\n",
       "}\n",
       "\n",
       "/* Specification for estimator info (e.g. \"i\" and \"?\") */\n",
       "\n",
       "/* Common style for \"i\" and \"?\" */\n",
       "\n",
       ".sk-estimator-doc-link,\n",
       "a:link.sk-estimator-doc-link,\n",
       "a:visited.sk-estimator-doc-link {\n",
       "  float: right;\n",
       "  font-size: smaller;\n",
       "  line-height: 1em;\n",
       "  font-family: monospace;\n",
       "  background-color: var(--sklearn-color-background);\n",
       "  border-radius: 1em;\n",
       "  height: 1em;\n",
       "  width: 1em;\n",
       "  text-decoration: none !important;\n",
       "  margin-left: 1ex;\n",
       "  /* unfitted */\n",
       "  border: var(--sklearn-color-unfitted-level-1) 1pt solid;\n",
       "  color: var(--sklearn-color-unfitted-level-1);\n",
       "}\n",
       "\n",
       ".sk-estimator-doc-link.fitted,\n",
       "a:link.sk-estimator-doc-link.fitted,\n",
       "a:visited.sk-estimator-doc-link.fitted {\n",
       "  /* fitted */\n",
       "  border: var(--sklearn-color-fitted-level-1) 1pt solid;\n",
       "  color: var(--sklearn-color-fitted-level-1);\n",
       "}\n",
       "\n",
       "/* On hover */\n",
       "div.sk-estimator:hover .sk-estimator-doc-link:hover,\n",
       ".sk-estimator-doc-link:hover,\n",
       "div.sk-label-container:hover .sk-estimator-doc-link:hover,\n",
       ".sk-estimator-doc-link:hover {\n",
       "  /* unfitted */\n",
       "  background-color: var(--sklearn-color-unfitted-level-3);\n",
       "  color: var(--sklearn-color-background);\n",
       "  text-decoration: none;\n",
       "}\n",
       "\n",
       "div.sk-estimator.fitted:hover .sk-estimator-doc-link.fitted:hover,\n",
       ".sk-estimator-doc-link.fitted:hover,\n",
       "div.sk-label-container:hover .sk-estimator-doc-link.fitted:hover,\n",
       ".sk-estimator-doc-link.fitted:hover {\n",
       "  /* fitted */\n",
       "  background-color: var(--sklearn-color-fitted-level-3);\n",
       "  color: var(--sklearn-color-background);\n",
       "  text-decoration: none;\n",
       "}\n",
       "\n",
       "/* Span, style for the box shown on hovering the info icon */\n",
       ".sk-estimator-doc-link span {\n",
       "  display: none;\n",
       "  z-index: 9999;\n",
       "  position: relative;\n",
       "  font-weight: normal;\n",
       "  right: .2ex;\n",
       "  padding: .5ex;\n",
       "  margin: .5ex;\n",
       "  width: min-content;\n",
       "  min-width: 20ex;\n",
       "  max-width: 50ex;\n",
       "  color: var(--sklearn-color-text);\n",
       "  box-shadow: 2pt 2pt 4pt #999;\n",
       "  /* unfitted */\n",
       "  background: var(--sklearn-color-unfitted-level-0);\n",
       "  border: .5pt solid var(--sklearn-color-unfitted-level-3);\n",
       "}\n",
       "\n",
       ".sk-estimator-doc-link.fitted span {\n",
       "  /* fitted */\n",
       "  background: var(--sklearn-color-fitted-level-0);\n",
       "  border: var(--sklearn-color-fitted-level-3);\n",
       "}\n",
       "\n",
       ".sk-estimator-doc-link:hover span {\n",
       "  display: block;\n",
       "}\n",
       "\n",
       "/* \"?\"-specific style due to the `<a>` HTML tag */\n",
       "\n",
       "#sk-container-id-12 a.estimator_doc_link {\n",
       "  float: right;\n",
       "  font-size: 1rem;\n",
       "  line-height: 1em;\n",
       "  font-family: monospace;\n",
       "  background-color: var(--sklearn-color-background);\n",
       "  border-radius: 1rem;\n",
       "  height: 1rem;\n",
       "  width: 1rem;\n",
       "  text-decoration: none;\n",
       "  /* unfitted */\n",
       "  color: var(--sklearn-color-unfitted-level-1);\n",
       "  border: var(--sklearn-color-unfitted-level-1) 1pt solid;\n",
       "}\n",
       "\n",
       "#sk-container-id-12 a.estimator_doc_link.fitted {\n",
       "  /* fitted */\n",
       "  border: var(--sklearn-color-fitted-level-1) 1pt solid;\n",
       "  color: var(--sklearn-color-fitted-level-1);\n",
       "}\n",
       "\n",
       "/* On hover */\n",
       "#sk-container-id-12 a.estimator_doc_link:hover {\n",
       "  /* unfitted */\n",
       "  background-color: var(--sklearn-color-unfitted-level-3);\n",
       "  color: var(--sklearn-color-background);\n",
       "  text-decoration: none;\n",
       "}\n",
       "\n",
       "#sk-container-id-12 a.estimator_doc_link.fitted:hover {\n",
       "  /* fitted */\n",
       "  background-color: var(--sklearn-color-fitted-level-3);\n",
       "}\n",
       "</style><div id=\"sk-container-id-12\" class=\"sk-top-container\"><div class=\"sk-text-repr-fallback\"><pre>PoissonRegressor(alpha=0.001)</pre><b>In a Jupyter environment, please rerun this cell to show the HTML representation or trust the notebook. <br />On GitHub, the HTML representation is unable to render, please try loading this page with nbviewer.org.</b></div><div class=\"sk-container\" hidden><div class=\"sk-item\"><div class=\"sk-estimator fitted sk-toggleable\"><input class=\"sk-toggleable__control sk-hidden--visually\" id=\"sk-estimator-id-12\" type=\"checkbox\" checked><label for=\"sk-estimator-id-12\" class=\"sk-toggleable__label fitted sk-toggleable__label-arrow fitted\">&nbsp;&nbsp;PoissonRegressor<a class=\"sk-estimator-doc-link fitted\" rel=\"noreferrer\" target=\"_blank\" href=\"https://scikit-learn.org/1.5/modules/generated/sklearn.linear_model.PoissonRegressor.html\">?<span>Documentation for PoissonRegressor</span></a><span class=\"sk-estimator-doc-link fitted\">i<span>Fitted</span></span></label><div class=\"sk-toggleable__content fitted\"><pre>PoissonRegressor(alpha=0.001)</pre></div> </div></div></div></div>"
      ],
      "text/plain": [
       "PoissonRegressor(alpha=0.001)"
      ]
     },
     "execution_count": 74,
     "metadata": {},
     "output_type": "execute_result"
    }
   ],
   "source": [
    "estimated_rf = sk_lm.PoissonRegressor(alpha=.001)\n",
    "estimated_rf.fit(x[1:,:],y.ravel())"
   ]
  },
  {
   "cell_type": "code",
   "execution_count": 36,
   "id": "3c104ecf",
   "metadata": {},
   "outputs": [
    {
     "data": {
      "text/plain": [
       "(array([19, 20, 21, 22, 23, 24, 25, 26, 27, 28, 29, 30, 31, 32, 33]),)"
      ]
     },
     "execution_count": 36,
     "metadata": {},
     "output_type": "execute_result"
    }
   ],
   "source": [
    "np.where(beryl_label==385)\n"
   ]
  },
  {
   "cell_type": "code",
   "execution_count": 83,
   "id": "cadadb5e",
   "metadata": {},
   "outputs": [
    {
     "data": {
      "text/plain": [
       "<matplotlib.colorbar.Colorbar at 0x15bf5e0e0>"
      ]
     },
     "execution_count": 83,
     "metadata": {},
     "output_type": "execute_result"
    },
    {
     "data": {
      "image/png": "[encoded data removed]",
      "text/plain": [
       "<Figure size 640x480 with 2 Axes>"
      ]
     },
     "metadata": {},
     "output_type": "display_data"
    }
   ],
   "source": [
    "plt.imshow(estimated_rf[0].coef_.reshape(15,15), vmin=-1, vmax=1)\n",
    "plt.colorbar()\n",
    "# pglm.score(x[1:,:], y.ravel())"
   ]
  },
  {
   "cell_type": "code",
   "execution_count": 77,
   "id": "3bd0a916",
   "metadata": {},
   "outputs": [
    {
     "name": "stderr",
     "output_type": "stream",
     "text": [
      "/Users/dep/opt/miniforge3/envs/iblenv-x86/lib/python3.10/site-packages/sklearn/_loss/link.py:174: RuntimeWarning: divide by zero encountered in log\n",
      "  return np.log(y_pred, out=out)\n",
      "/Users/dep/opt/miniforge3/envs/iblenv-x86/lib/python3.10/site-packages/sklearn/_loss/link.py:174: RuntimeWarning: divide by zero encountered in log\n",
      "  return np.log(y_pred, out=out)\n",
      "/Users/dep/opt/miniforge3/envs/iblenv-x86/lib/python3.10/site-packages/sklearn/_loss/link.py:174: RuntimeWarning: divide by zero encountered in log\n",
      "  return np.log(y_pred, out=out)\n",
      "/Users/dep/opt/miniforge3/envs/iblenv-x86/lib/python3.10/site-packages/sklearn/_loss/link.py:174: RuntimeWarning: divide by zero encountered in log\n",
      "  return np.log(y_pred, out=out)\n",
      "/Users/dep/opt/miniforge3/envs/iblenv-x86/lib/python3.10/site-packages/sklearn/_loss/link.py:174: RuntimeWarning: divide by zero encountered in log\n",
      "  return np.log(y_pred, out=out)\n",
      "/Users/dep/opt/miniforge3/envs/iblenv-x86/lib/python3.10/site-packages/sklearn/_loss/link.py:174: RuntimeWarning: divide by zero encountered in log\n",
      "  return np.log(y_pred, out=out)\n"
     ]
    }
   ],
   "source": [
    "\n",
    "def pglm_dev(spk_cnt):\n",
    "    y = spk_cnt\n",
    "    x = rfm_frames.reshape((rfm_frames.shape[0],-1))\n",
    "    pglm = sk_lm.PoissonRegressor(alpha=0.0001)\n",
    "    pglm.fit(x[1:,:], y.ravel())\n",
    "    return pglm.score(x[1:,:], y.ravel())\n",
    "\n",
    "pglm_sta_devs = np.apply_along_axis(pglm_dev, 1, binned_array[:,binned_ndx+1])"
   ]
  },
  {
   "cell_type": "code",
   "execution_count": 128,
   "id": "a379f94e",
   "metadata": {},
   "outputs": [
    {
     "name": "stdout",
     "output_type": "stream",
     "text": [
      "nan\n",
      "16\n"
     ]
    },
    {
     "data": {
      "image/png": "[encoded data removed]",
      "text/plain": [
       "<Figure size 640x480 with 1 Axes>"
      ]
     },
     "metadata": {},
     "output_type": "display_data"
    }
   ],
   "source": [
    "plt.hist(pglm_sta_devs)\n",
    "print(pglm_sta_devs.max())\n",
    "print(pglm_sta_devs.argmax())"
   ]
  },
  {
   "cell_type": "code",
   "execution_count": 10,
   "id": "c83d22d2-b0d5-4bb0-91c6-73c2dc7a1d9c",
   "metadata": {},
   "outputs": [],
   "source": [
    "ave_rf_sta, ave_rf_sta_on, ave_rf_sta_off, rf_sta, rf_sta_on, rf_sta_off, area_label, beryl_label, QC_cluster_id = compute_rf_sta_session(pid, eid)"
   ]
  },
  {
   "cell_type": "code",
   "execution_count": 16,
   "id": "a5f628bf-1d00-434a-be46-88d7959d5cbe",
   "metadata": {},
   "outputs": [
    {
     "data": {
      "text/plain": [
       "<matplotlib.colorbar.Colorbar at 0x7f7c771aff70>"
      ]
     },
     "execution_count": 16,
     "metadata": {},
     "output_type": "execute_result"
    },
    {
     "data": {
      "image/png": "[encoded data removed]",
      "text/plain": [
       "<Figure size 640x480 with 2 Axes>"
      ]
     },
     "metadata": {},
     "output_type": "display_data"
    }
   ],
   "source": [
    "##### example receptive field (On + Off) ############\n",
    "# cluster id=56   beryl_label= VISp\n",
    "# time lag=3\n",
    "z5=rf_sta[56,:,:,3]\n",
    "fig=plt.imshow(z5-np.mean(z5))\n",
    "plt.colorbar()"
   ]
  },
  {
   "cell_type": "code",
   "execution_count": 17,
   "id": "26f4dfdb-4ec8-4c94-b773-5b15ebcfceaa",
   "metadata": {},
   "outputs": [
    {
     "data": {
      "text/plain": [
       "<matplotlib.colorbar.Colorbar at 0x7f7c64788e80>"
      ]
     },
     "execution_count": 17,
     "metadata": {},
     "output_type": "execute_result"
    },
    {
     "data": {
      "image/png": "[encoded data removed]",
      "text/plain": [
       "<Figure size 640x480 with 2 Axes>"
      ]
     },
     "metadata": {},
     "output_type": "display_data"
    }
   ],
   "source": [
    "##### example receptive field (On) ############\n",
    "# cluster id=56   beryl_label= VISp\n",
    "# time lag=3\n",
    "z5=rf_sta_on[56,:,:,3]\n",
    "fig=plt.imshow(z5-np.mean(z5))\n",
    "plt.colorbar()"
   ]
  },
  {
   "cell_type": "code",
   "execution_count": 15,
   "id": "506be6a8-dec5-4f7f-8722-9df8d026922c",
   "metadata": {},
   "outputs": [
    {
     "data": {
      "text/plain": [
       "<matplotlib.colorbar.Colorbar at 0x7f7c77158d60>"
      ]
     },
     "execution_count": 15,
     "metadata": {},
     "output_type": "execute_result"
    },
    {
     "data": {
      "image/png": "[encoded data removed]",
      "text/plain": [
       "<Figure size 640x480 with 2 Axes>"
      ]
     },
     "metadata": {},
     "output_type": "display_data"
    }
   ],
   "source": [
    "##### example receptive field (Off) ############\n",
    "# cluster id=56   beryl_label= VISp\n",
    "# time lag=3\n",
    "z5=rf_sta_off[56,:,:,3]\n",
    "fig=plt.imshow(z5-np.mean(z5))\n",
    "plt.colorbar()"
   ]
  },
  {
   "cell_type": "code",
   "execution_count": 46,
   "id": "ba50b148-3f25-410f-a297-303acc54200e",
   "metadata": {},
   "outputs": [
    {
     "data": {
      "text/plain": [
       "<matplotlib.colorbar.Colorbar at 0x7f7c27810ee0>"
      ]
     },
     "execution_count": 46,
     "metadata": {},
     "output_type": "execute_result"
    },
    {
     "data": {
      "image/png": "[encoded data removed]",
      "text/plain": [
       "<Figure size 640x480 with 2 Axes>"
      ]
     },
     "metadata": {},
     "output_type": "display_data"
    }
   ],
   "source": [
    "###### time-averaged RF ############\n",
    "\n",
    "##### example receptive field (On + Off) ############\n",
    "# cluster id=56   beryl_label= VISp\n",
    "# time lag=3\n",
    "z5=ave_rf_sta[56,:,:]\n",
    "fig=plt.imshow(z5-np.mean(z5))\n",
    "plt.colorbar()"
   ]
  },
  {
   "cell_type": "code",
   "execution_count": null,
   "id": "8e7ba109-bd61-4884-918d-9292fbd8464d",
   "metadata": {},
   "outputs": [],
   "source": []
  }
 ],
 "metadata": {
  "kernelspec": {
   "display_name": "Python 3 (ipykernel)",
   "language": "python",
   "name": "python3"
  },
  "language_info": {
   "codemirror_mode": {
    "name": "ipython",
    "version": 3
   },
   "file_extension": ".py",
   "mimetype": "text/x-python",
   "name": "python",
   "nbconvert_exporter": "python",
   "pygments_lexer": "ipython3",
   "version": "3.10.14"
  }
 },
 "nbformat": 4,
 "nbformat_minor": 5
}

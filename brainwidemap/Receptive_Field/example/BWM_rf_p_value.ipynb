{
 "cells": [
  {
   "cell_type": "code",
   "execution_count": 1,
   "id": "cacba3bf",
   "metadata": {
    "ExecuteTime": {
     "end_time": "2024-05-05T15:46:04.384801Z",
     "start_time": "2024-05-05T15:46:02.948196Z"
    }
   },
   "outputs": [],
   "source": [
    "import logging\n",
    "import warnings\n",
    "\n",
    "import matplotlib.pyplot as plt\n",
    "import numpy as np\n",
    "import scipy.ndimage as ndi\n",
    "from scipy.optimize import leastsq"
   ]
  },
  {
   "cell_type": "code",
   "execution_count": 2,
   "id": "2c368092",
   "metadata": {
    "ExecuteTime": {
     "end_time": "2024-05-05T15:46:04.443919Z",
     "start_time": "2024-05-05T15:46:04.412128Z"
    }
   },
   "outputs": [],
   "source": [
    "def _gaussian_function_2d(peak_height, center_y, center_x, width_y, width_x):\n",
    "    \"\"\"Returns a 2D Gaussian function\n",
    "\n",
    "    Parameters\n",
    "    ----------\n",
    "    peak_height :\n",
    "        peak of distribution\n",
    "    center_y :\n",
    "        y-coordinate of distribution center\n",
    "    center_x :\n",
    "        x-coordinate of distribution center\n",
    "    width_y :\n",
    "        width of distribution along x-axis\n",
    "    width_x :\n",
    "        width of distribution along y-axis\n",
    "\n",
    "    Returns\n",
    "    -------\n",
    "    f(x,y) : function\n",
    "        Returns the value of the distribution at a\n",
    "        particular x,y coordinate\n",
    "\n",
    "    \"\"\"\n",
    "\n",
    "    return lambda y, x:  peak_height * np.exp(\n",
    "        -(((center_y - y) / width_y) ** 2 + ((center_x - x) / width_x) ** 2)\n",
    "        / 2\n",
    "    )\n",
    "\n",
    "\n",
    "\n",
    "def rf_guassian(dim_y, dim_x, peak_height, center_y, center_x, width_y, width_x):\n",
    "    \"\"\"Returns a RF matrix based on 2D Gaussian function\n",
    "\n",
    "    Parameters\n",
    "    ----------\n",
    "    dim_y :\n",
    "        length of y-position \n",
    "    dim_x :\n",
    "        length of x-position \n",
    "    \n",
    "    peak_height :\n",
    "        peak of distribution\n",
    "    center_y :\n",
    "        y-coordinate of distribution center\n",
    "    center_x :\n",
    "        x-coordinate of distribution center\n",
    "    width_y :\n",
    "        width of distribution along x-axis\n",
    "    width_x :\n",
    "        width of distribution along y-axis\n",
    "\n",
    "    Returns\n",
    "    -------\n",
    "    rf_matrix : RF matrix\n",
    "     \n",
    "    \"\"\"\n",
    "    f=_gaussian_function_2d(peak_height, center_y, center_x, width_y, width_x)\n",
    "    rf_matrix=np.zeros((dim_y,dim_x))\n",
    "    for i in range(dim_y):\n",
    "        for j in range(dim_x):\n",
    "            rf_matrix[i,j]=f(y=i,x=j)\n",
    "\n",
    "    return rf_matrix\n",
    "\n",
    "\n",
    "\n",
    "\n",
    "\n",
    "def gaussian_moments_2d(data):\n",
    "    \"\"\"Finds the moments of a 2D Gaussian distribution,\n",
    "    given an input matrix\n",
    "\n",
    "    Parameters\n",
    "    ----------\n",
    "    data : numpy.ndarray\n",
    "        2D matrix\n",
    "\n",
    "    Returns\n",
    "    -------\n",
    "    baseline:\n",
    "        baseline of data\n",
    "    peak_height :\n",
    "        peak of distribution\n",
    "    center_y :\n",
    "        y-coordinate of distribution center\n",
    "    center_x :\n",
    "        x-coordinate of distribution center\n",
    "    width_y :\n",
    "        width of distribution along x-axis\n",
    "    width_x :\n",
    "        width of distribution along y-axis\n",
    "    \"\"\"\n",
    "    \n",
    "    total = data.sum()\n",
    "    height = data.max()\n",
    "\n",
    "    Y, X = np.indices(data.shape)\n",
    "    center_y = (Y * data).sum() / total\n",
    "    center_x = (X * data).sum() / total\n",
    "\n",
    "    if (\n",
    "        np.isnan(center_y)\n",
    "        or np.isinf(center_y)\n",
    "        or np.isnan(center_x)\n",
    "        or np.isinf(center_x)\n",
    "    ):\n",
    "        return None\n",
    "\n",
    "    col = data[:, int(center_x)]\n",
    "    row = data[int(center_y), :]\n",
    "\n",
    "    width_y = np.sqrt(\n",
    "        np.abs((np.arange(row.size) - center_y) ** 2 * row).sum() / row.sum()\n",
    "    )\n",
    "    width_x = np.sqrt(\n",
    "        np.abs((np.arange(col.size) - center_x) ** 2 * col).sum() / col.sum()\n",
    "    )\n",
    "\n",
    "    return height, center_y, center_x, width_y, width_x\n",
    "\n",
    "\n",
    "def fit_2d_gaussian(matrix):\n",
    "    \"\"\"Fits a receptive field with a 2-dimensional Gaussian\n",
    "    distribution\n",
    "\n",
    "    Parameters\n",
    "    ----------\n",
    "    matrix : numpy.ndarray\n",
    "        2D matrix of spike counts\n",
    "\n",
    "    Returns\n",
    "    -------\n",
    "    parameters - tuple\n",
    "        peak_height : peak of distribution\n",
    "        center_y : y-coordinate of distribution center\n",
    "        center_x : x-coordinate of distribution center\n",
    "        width_y : width of distribution along x-axis\n",
    "        width_x : width of distribution along y-axis\n",
    "        rsq :     r-square value of fitting\n",
    "    success - bool\n",
    "        True if a fit was found, False otherwise\n",
    "    \"\"\"\n",
    "    \n",
    "\n",
    "    params = gaussian_moments_2d(abs(matrix))\n",
    "    if params is None:\n",
    "        return (np.nan, np.nan, np.nan, np.nan, np.nan), False\n",
    "\n",
    "    def errorfunction(p):\n",
    "        return np.ravel(\n",
    "            _gaussian_function_2d(*p)(*np.indices(matrix.shape)) - matrix\n",
    "        )\n",
    "\n",
    "    fit_params, ier = leastsq(errorfunction, params)\n",
    "    success = True if ier < 5 else False\n",
    "\n",
    "    RSS=(errorfunction(fit_params)**2).sum()\n",
    "    TSS=((matrix-np.mean(matrix))**2).sum()\n",
    "    rsq=1-RSS/TSS\n",
    "    \n",
    "    return rsq, fit_params, success\n",
    "\n",
    "\n",
    "\n",
    "def fit_2d_gaussian_stats(matrix,nShuffle=1000):\n",
    "    \"\"\"Compute empirical p-value of fiting a receptive field with a 2-dimensional Gaussian\n",
    "    distribution\n",
    "\n",
    "    Parameters\n",
    "    ----------\n",
    "    matrix : numpy.ndarray\n",
    "        2D matrix of spike counts\n",
    "    nShuffle: number of shuffles    \n",
    "\n",
    "    Returns\n",
    "    -------\n",
    "    p_value: empirical p-value of rsq\n",
    "    \n",
    "    parameters - tuple\n",
    "        peak_height : peak of distribution\n",
    "        center_y : y-coordinate of distribution center\n",
    "        center_x : x-coordinate of distribution center\n",
    "        width_y : width of distribution along x-axis\n",
    "        width_x : width of distribution along y-axis\n",
    "        rsq :     r-square value of fitting\n",
    "    success - bool\n",
    "        True if a fit was found, False otherwise\n",
    "    \"\"\"\n",
    "    \n",
    "    rsq, fit_params, success = fit_2d_gaussian(matrix)\n",
    "    \n",
    "    length_1=len(matrix[:,0])\n",
    "    length_2=len(matrix[0,:])\n",
    "    \n",
    "    shuffle_rsq=np.zeros(nShuffle)\n",
    "    for i_shuffle in range(nShuffle):\n",
    "        temp_matrix_1=matrix.reshape((length_1*length_2,1))\n",
    "        temp_matrix_2=np.random.permutation(temp_matrix_1)\n",
    "        temp_matrix_3=temp_matrix_2.reshape((length_1,length_2))\n",
    "\n",
    "        temp_rsq, temp_fit_params, temp_success = fit_2d_gaussian(temp_matrix_3)\n",
    "        shuffle_rsq[i_shuffle]=temp_rsq\n",
    "    \n",
    "    samples=len(np.argwhere(shuffle_rsq>rsq))\n",
    "    p_value= (samples+1)/(nShuffle)\n",
    "    \n",
    "    return p_value, rsq, fit_params\n",
    "    \n",
    "\n",
    "\n",
    "\n",
    "def is_rf_inverted(rf_thresh):\n",
    "    \"\"\"Checks if the receptive field mapping timulus is suppressing\n",
    "    or exciting the cell\n",
    "\n",
    "    Parameters\n",
    "    ----------\n",
    "    rf_thresh : matrix\n",
    "        matrix of spike counts at each stimulus position\n",
    "\n",
    "    Returns\n",
    "    -------\n",
    "    if_rf_inverted : bool\n",
    "        True if the receptive field is inverted\n",
    "    \"\"\"\n",
    "    edge_mask = np.zeros(rf_thresh.shape)\n",
    "\n",
    "    edge_mask[:, 0] = 1\n",
    "    edge_mask[:, -1] = 1\n",
    "    edge_mask[0, :] = 1\n",
    "    edge_mask[-1, :] = 1\n",
    "\n",
    "    num_edge_pixels = np.sum(rf_thresh * edge_mask)\n",
    "\n",
    "    return num_edge_pixels > np.sum(edge_mask) / 2\n",
    "\n",
    "\n",
    "def invert_rf(rf):\n",
    "    \"\"\"Creates an inverted version of the receptive field\n",
    "\n",
    "    Parameters\n",
    "    ----------\n",
    "    rf - matrix of spike counts at each stimulus position\n",
    "\n",
    "    Returns\n",
    "    -------\n",
    "    rf_inverted - new RF matrix\n",
    "\n",
    "    \"\"\"\n",
    "    return np.max(rf) - rf\n",
    "\n",
    "\n",
    "def threshold_rf(rf, threshold):\n",
    "    \"\"\"Creates a spatial mask based on the receptive field peak\n",
    "    and returns the x, y coordinates of the center of mass,\n",
    "    as well as the area.\n",
    "\n",
    "    Parameters\n",
    "    ----------\n",
    "    rf : numpy.ndarray\n",
    "        2D matrix of spike counts\n",
    "    threshold : float\n",
    "        Threshold as ratio of the RF's standard deviation\n",
    "\n",
    "    Returns\n",
    "    -------\n",
    "    threshold_rf : numpy.ndarray\n",
    "        Thresholded version of the original RF\n",
    "    center_x : float\n",
    "        x-coordinate of mask center of mass\n",
    "    center_y : float\n",
    "        y-coordinate of mask center of mass\n",
    "    area : float\n",
    "        area of mask\n",
    "    \"\"\"\n",
    "    rf_filt = ndi.gaussian_filter(rf, 1)\n",
    "\n",
    "    threshold_value = np.max(rf_filt) - np.std(rf_filt) * threshold\n",
    "\n",
    "    rf_thresh = np.zeros(rf.shape, dtype=\"bool\")\n",
    "    rf_thresh[rf_filt > threshold_value] = True\n",
    "\n",
    "    labels, num_features = ndi.label(rf_thresh)\n",
    "\n",
    "    best_label = np.argmax(\n",
    "        ndi.maximum(rf_filt, labels=labels, index=np.unique(labels))\n",
    "    )\n",
    "\n",
    "    labels[labels != best_label] = 0\n",
    "    labels[labels > 0] = 1\n",
    "\n",
    "    center_y, center_x = ndi.measurements.center_of_mass(labels)\n",
    "    area = float(np.sum(labels))\n",
    "\n",
    "    return labels, np.around(center_x, 4), np.around(center_y, 4), area\n",
    "\n",
    "\n",
    "def rf_on_screen(rf, center_y, center_x):\n",
    "    \"\"\"Checks whether the receptive field is on the screen, given the\n",
    "    center location.\"\"\"\n",
    "    return 0 < center_y < rf.shape[0] and 0 < center_x < rf.shape[1]\n",
    "\n",
    "\n",
    "def convert_elevation_to_degrees(\n",
    "    elevation_in_pixels, elevation_offset_degrees=-30\n",
    "):\n",
    "    \"\"\"Converts a pixel-based elevation into degrees relative to\n",
    "    center of gaze\n",
    "\n",
    "    The receptive field computed by this class is oriented such\n",
    "    that the pixel values are in the correct relative location\n",
    "    when using matplotlib.pyplot.imshow(), which places (0,0)\n",
    "    in the upper-left corner of the figure.\n",
    "\n",
    "    Therefore, we need to invert the elevation value prior\n",
    "    to converting to degrees.\n",
    "\n",
    "    Parameters\n",
    "    ----------\n",
    "    elevation_in_pixels : float\n",
    "    elevation_offset_degrees: float\n",
    "\n",
    "    Returns\n",
    "    -------\n",
    "    elevation_in_degrees : float\n",
    "    \"\"\"\n",
    "    elevation_in_degrees = (\n",
    "        convert_pixels_to_degrees(8 - elevation_in_pixels)\n",
    "        + elevation_offset_degrees\n",
    "    )\n",
    "\n",
    "    return elevation_in_degrees\n",
    "\n",
    "\n",
    "def convert_azimuth_to_degrees(azimuth_in_pixels, azimuth_offset_degrees=10):\n",
    "    \"\"\"Converts a pixel-based azimuth into degrees relative\n",
    "    to center of gaze\n",
    "\n",
    "    Parameters\n",
    "    ----------\n",
    "    azimuth_in_pixels : float\n",
    "    azimuth_offset_degrees: float\n",
    "\n",
    "    Returns\n",
    "    -------\n",
    "    azimuth_in_degrees : float\n",
    "    \"\"\"\n",
    "    azimuth_in_degrees = (\n",
    "        convert_pixels_to_degrees((azimuth_in_pixels)) + azimuth_offset_degrees\n",
    "    )\n",
    "\n",
    "    return azimuth_in_degrees\n",
    "\n",
    "\n",
    "def convert_pixels_to_degrees(value_in_pixels, degrees_to_pixels_ratio=10):\n",
    "    \"\"\"Converts a pixel-based distance into degrees\n",
    "\n",
    "    Parameters\n",
    "    ----------\n",
    "    value_in_pixels : float\n",
    "    degrees_to_pixels_ratio: float\n",
    "\n",
    "    Returns\n",
    "    -------\n",
    "    value in degrees : float\n",
    "    \"\"\"\n",
    "    return value_in_pixels * degrees_to_pixels_ratio\n"
   ]
  },
  {
   "cell_type": "code",
   "execution_count": 2,
   "id": "668d4139",
   "metadata": {},
   "outputs": [],
   "source": [
    "# Load RF data (on), select region: VISP\n",
    "rf_on=np.load('BWM_rf_on.npy')\n",
    "rf_beryl_label=np.load('BWM_rf_beryl_label.npy')\n",
    "vis_ind=np.argwhere(rf_beryl_label==385)[:,0]\n",
    "rf_vis=rf_on[vis_ind,:,:]"
   ]
  },
  {
   "cell_type": "code",
   "execution_count": 3,
   "id": "2d5c892d",
   "metadata": {},
   "outputs": [],
   "source": [
    "####### Example 1: significant RF ##########"
   ]
  },
  {
   "cell_type": "code",
   "execution_count": 6,
   "id": "40d58740",
   "metadata": {},
   "outputs": [
    {
     "data": {
      "text/plain": [
       "<matplotlib.colorbar.Colorbar at 0x7fda22336640>"
      ]
     },
     "execution_count": 6,
     "metadata": {},
     "output_type": "execute_result"
    },
    {
     "data": {
      "image/png": "[encoded data removed]",
      "text/plain": [
       "<Figure size 432x288 with 2 Axes>"
      ]
     },
     "metadata": {
      "needs_background": "light"
     },
     "output_type": "display_data"
    }
   ],
   "source": [
    "######## Compute z-scroe of RF:\n",
    "rf_z= rf_vis[106,:,:]-np.mean(rf_vis[106,:,:])\n",
    "\n",
    "\n",
    "####### plot RF ##########\n",
    "plt.imshow(rf_z)\n",
    "plt.colorbar()"
   ]
  },
  {
   "cell_type": "code",
   "execution_count": 11,
   "id": "5b4259d7",
   "metadata": {},
   "outputs": [],
   "source": [
    "####### Compute p-value, Rsq value, and fitting parameters of 2D guassian ##########\n",
    "p_value, rsq, fit_params=fit_2d_gaussian_stats(rf_z,nShuffle=1000)"
   ]
  },
  {
   "cell_type": "code",
   "execution_count": 16,
   "id": "889b20b6",
   "metadata": {},
   "outputs": [
    {
     "data": {
      "text/plain": [
       "0.001"
      ]
     },
     "execution_count": 16,
     "metadata": {},
     "output_type": "execute_result"
    }
   ],
   "source": [
    "# p-value \n",
    "p_value"
   ]
  },
  {
   "cell_type": "code",
   "execution_count": 17,
   "id": "214e6ffa",
   "metadata": {},
   "outputs": [
    {
     "data": {
      "text/plain": [
       "0.5625712576099198"
      ]
     },
     "execution_count": 17,
     "metadata": {},
     "output_type": "execute_result"
    }
   ],
   "source": [
    "# R-square value \n",
    "rsq"
   ]
  },
  {
   "cell_type": "code",
   "execution_count": 18,
   "id": "49645aca",
   "metadata": {},
   "outputs": [
    {
     "data": {
      "text/plain": [
       "array([24.06780504,  4.83560032, 10.41318107, -0.88336625,  1.38241058])"
      ]
     },
     "execution_count": 18,
     "metadata": {},
     "output_type": "execute_result"
    }
   ],
   "source": [
    "#  fitting parameters: peak_height, center_y, center_x, width_y, width_x \n",
    "fit_params"
   ]
  },
  {
   "cell_type": "code",
   "execution_count": 20,
   "id": "baf982b6",
   "metadata": {},
   "outputs": [
    {
     "data": {
      "text/plain": [
       "<matplotlib.colorbar.Colorbar at 0x7fda221cf5e0>"
      ]
     },
     "execution_count": 20,
     "metadata": {},
     "output_type": "execute_result"
    },
    {
     "data": {
      "image/png": "[encoded data removed]",
      "text/plain": [
       "<Figure size 432x288 with 2 Axes>"
      ]
     },
     "metadata": {
      "needs_background": "light"
     },
     "output_type": "display_data"
    }
   ],
   "source": [
    "####### plot fitted RF based on fitting parameters of 2D gaussian ##########\n",
    "length_y=len(rf_z[:,0])\n",
    "length_x=len(rf_z[0,:])\n",
    "\n",
    "rf_fit=rf_guassian(length_y, length_x, fit_params[0], fit_params[1], fit_params[2], fit_params[3], fit_params[4])\n",
    "\n",
    "####### plot RF ##########\n",
    "plt.imshow(rf_fit)\n",
    "plt.colorbar()"
   ]
  },
  {
   "cell_type": "code",
   "execution_count": null,
   "id": "30e62d92",
   "metadata": {},
   "outputs": [],
   "source": []
  },
  {
   "cell_type": "code",
   "execution_count": null,
   "id": "f96a801a",
   "metadata": {},
   "outputs": [],
   "source": []
  },
  {
   "cell_type": "code",
   "execution_count": null,
   "id": "d20ef2f1",
   "metadata": {},
   "outputs": [],
   "source": [
    "####### Example 1: insignificant RF ##########"
   ]
  },
  {
   "cell_type": "code",
   "execution_count": 21,
   "id": "9f79d12b",
   "metadata": {},
   "outputs": [
    {
     "data": {
      "text/plain": [
       "<matplotlib.colorbar.Colorbar at 0x7fd9d0388a30>"
      ]
     },
     "execution_count": 21,
     "metadata": {},
     "output_type": "execute_result"
    },
    {
     "data": {
      "image/png": "[encoded data removed]",
      "text/plain": [
       "<Figure size 432x288 with 2 Axes>"
      ]
     },
     "metadata": {
      "needs_background": "light"
     },
     "output_type": "display_data"
    }
   ],
   "source": [
    "######## Compute z-scroe of RF:\n",
    "rf_z= rf_vis[108,:,:]-np.mean(rf_vis[108,:,:])\n",
    "\n",
    "\n",
    "####### plot RF ##########\n",
    "plt.imshow(rf_z)\n",
    "plt.colorbar()"
   ]
  },
  {
   "cell_type": "code",
   "execution_count": 22,
   "id": "23c15e15",
   "metadata": {},
   "outputs": [],
   "source": [
    "####### Compute p-value, Rsq value, and fitting parameters of 2D guassian ##########\n",
    "p_value, rsq, fit_params=fit_2d_gaussian_stats(rf_z,nShuffle=1000)"
   ]
  },
  {
   "cell_type": "code",
   "execution_count": 23,
   "id": "101b73eb",
   "metadata": {},
   "outputs": [
    {
     "data": {
      "text/plain": [
       "0.865"
      ]
     },
     "execution_count": 23,
     "metadata": {},
     "output_type": "execute_result"
    }
   ],
   "source": [
    "# p-value \n",
    "p_value"
   ]
  },
  {
   "cell_type": "code",
   "execution_count": 24,
   "id": "aeb75f4e",
   "metadata": {},
   "outputs": [
    {
     "data": {
      "text/plain": [
       "0.01381862262034228"
      ]
     },
     "execution_count": 24,
     "metadata": {},
     "output_type": "execute_result"
    }
   ],
   "source": [
    "# R-square value \n",
    "rsq"
   ]
  },
  {
   "cell_type": "code",
   "execution_count": 25,
   "id": "89528624",
   "metadata": {},
   "outputs": [
    {
     "data": {
      "text/plain": [
       "array([ 2.40647432,  9.0003651 , 13.99999986,  0.10337   ,  0.06264482])"
      ]
     },
     "execution_count": 25,
     "metadata": {},
     "output_type": "execute_result"
    }
   ],
   "source": [
    "#  fitting parameters: peak_height, center_y, center_x, width_y, width_x \n",
    "fit_params"
   ]
  },
  {
   "cell_type": "code",
   "execution_count": 26,
   "id": "13949c56",
   "metadata": {},
   "outputs": [
    {
     "data": {
      "text/plain": [
       "<matplotlib.colorbar.Colorbar at 0x7fda2247b880>"
      ]
     },
     "execution_count": 26,
     "metadata": {},
     "output_type": "execute_result"
    },
    {
     "data": {
      "image/png": "[encoded data removed]",
      "text/plain": [
       "<Figure size 432x288 with 2 Axes>"
      ]
     },
     "metadata": {
      "needs_background": "light"
     },
     "output_type": "display_data"
    }
   ],
   "source": [
    "####### plot fitted RF based on fitting parameters of 2D gaussian ##########\n",
    "length_y=len(rf_z[:,0])\n",
    "length_x=len(rf_z[0,:])\n",
    "\n",
    "rf_fit=rf_guassian(length_y, length_x, fit_params[0], fit_params[1], fit_params[2], fit_params[3], fit_params[4])\n",
    "\n",
    "####### plot RF ##########\n",
    "plt.imshow(rf_fit)\n",
    "plt.colorbar()"
   ]
  }
 ],
 "metadata": {
  "kernelspec": {
   "name": "python3",
   "language": "python",
   "display_name": "Python 3 (ipykernel)"
  },
  "language_info": {
   "codemirror_mode": {
    "name": "ipython",
    "version": 3
   },
   "file_extension": ".py",
   "mimetype": "text/x-python",
   "name": "python",
   "nbconvert_exporter": "python",
   "pygments_lexer": "ipython3",
   "version": "3.9.7"
  }
 },
 "nbformat": 4,
 "nbformat_minor": 5
}

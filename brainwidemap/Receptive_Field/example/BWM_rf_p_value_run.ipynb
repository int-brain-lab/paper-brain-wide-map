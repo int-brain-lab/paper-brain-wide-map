{
 "cells": [
  {
   "cell_type": "code",
   "execution_count": 1,
   "id": "cacba3bf",
   "metadata": {},
   "outputs": [],
   "source": [
    "import logging\n",
    "import warnings\n",
    "\n",
    "import matplotlib.pyplot as plt\n",
    "import numpy as np\n",
    "import scipy.ndimage as ndi\n",
    "from scipy.optimize import leastsq"
   ]
  },
  {
   "cell_type": "code",
   "execution_count": 2,
   "id": "2c368092",
   "metadata": {},
   "outputs": [],
   "source": [
    "def _gaussian_function_2d(peak_height, center_y, center_x, width_y, width_x):\n",
    "    \"\"\"Returns a 2D Gaussian function\n",
    "\n",
    "    Parameters\n",
    "    ----------\n",
    "    peak_height :\n",
    "        peak of distribution\n",
    "    center_y :\n",
    "        y-coordinate of distribution center\n",
    "    center_x :\n",
    "        x-coordinate of distribution center\n",
    "    width_y :\n",
    "        width of distribution along x-axis\n",
    "    width_x :\n",
    "        width of distribution along y-axis\n",
    "\n",
    "    Returns\n",
    "    -------\n",
    "    f(x,y) : function\n",
    "        Returns the value of the distribution at a\n",
    "        particular x,y coordinate\n",
    "\n",
    "    \"\"\"\n",
    "\n",
    "    return lambda y, x:  peak_height * np.exp(\n",
    "        -(((center_y - y) / width_y) ** 2 + ((center_x - x) / width_x) ** 2)\n",
    "        / 2\n",
    "    )\n",
    "\n",
    "\n",
    "\n",
    "def rf_guassian(dim_y, dim_x, peak_height, center_y, center_x, width_y, width_x):\n",
    "    \"\"\"Returns a RF matrix based on 2D Gaussian function\n",
    "\n",
    "    Parameters\n",
    "    ----------\n",
    "    dim_y :\n",
    "        length of y-position \n",
    "    dim_x :\n",
    "        length of x-position \n",
    "    \n",
    "    peak_height :\n",
    "        peak of distribution\n",
    "    center_y :\n",
    "        y-coordinate of distribution center\n",
    "    center_x :\n",
    "        x-coordinate of distribution center\n",
    "    width_y :\n",
    "        width of distribution along x-axis\n",
    "    width_x :\n",
    "        width of distribution along y-axis\n",
    "\n",
    "    Returns\n",
    "    -------\n",
    "    rf_matrix : RF matrix\n",
    "     \n",
    "    \"\"\"\n",
    "    f=_gaussian_function_2d(peak_height, center_y, center_x, width_y, width_x)\n",
    "    rf_matrix=np.zeros((dim_y,dim_x))\n",
    "    for i in range(dim_y):\n",
    "        for j in range(dim_x):\n",
    "            rf_matrix[i,j]=f(y=i,x=j)\n",
    "\n",
    "    return rf_matrix\n",
    "\n",
    "\n",
    "\n",
    "\n",
    "\n",
    "def gaussian_moments_2d(data):\n",
    "    \"\"\"Finds the moments of a 2D Gaussian distribution,\n",
    "    given an input matrix\n",
    "\n",
    "    Parameters\n",
    "    ----------\n",
    "    data : numpy.ndarray\n",
    "        2D matrix\n",
    "\n",
    "    Returns\n",
    "    -------\n",
    "    baseline:\n",
    "        baseline of data\n",
    "    peak_height :\n",
    "        peak of distribution\n",
    "    center_y :\n",
    "        y-coordinate of distribution center\n",
    "    center_x :\n",
    "        x-coordinate of distribution center\n",
    "    width_y :\n",
    "        width of distribution along x-axis\n",
    "    width_x :\n",
    "        width of distribution along y-axis\n",
    "    \"\"\"\n",
    "    \n",
    "    total = data.sum()\n",
    "    height = data.max()\n",
    "\n",
    "    Y, X = np.indices(data.shape)\n",
    "    center_y = (Y * data).sum() / total\n",
    "    center_x = (X * data).sum() / total\n",
    "\n",
    "    if (\n",
    "        np.isnan(center_y)\n",
    "        or np.isinf(center_y)\n",
    "        or np.isnan(center_x)\n",
    "        or np.isinf(center_x)\n",
    "    ):\n",
    "        return None\n",
    "\n",
    "    col = data[:, int(center_x)]\n",
    "    row = data[int(center_y), :]\n",
    "\n",
    "    width_y = np.sqrt(\n",
    "        np.abs((np.arange(row.size) - center_y) ** 2 * row).sum() / row.sum()\n",
    "    )\n",
    "    width_x = np.sqrt(\n",
    "        np.abs((np.arange(col.size) - center_x) ** 2 * col).sum() / col.sum()\n",
    "    )\n",
    "\n",
    "    return height, center_y, center_x, width_y, width_x\n",
    "\n",
    "\n",
    "def fit_2d_gaussian(matrix):\n",
    "    \"\"\"Fits a receptive field with a 2-dimensional Gaussian\n",
    "    distribution\n",
    "\n",
    "    Parameters\n",
    "    ----------\n",
    "    matrix : numpy.ndarray\n",
    "        2D matrix of spike counts\n",
    "\n",
    "    Returns\n",
    "    -------\n",
    "    parameters - tuple\n",
    "        peak_height : peak of distribution\n",
    "        center_y : y-coordinate of distribution center\n",
    "        center_x : x-coordinate of distribution center\n",
    "        width_y : width of distribution along x-axis\n",
    "        width_x : width of distribution along y-axis\n",
    "        rsq :     r-square value of fitting\n",
    "    success - bool\n",
    "        True if a fit was found, False otherwise\n",
    "    \"\"\"\n",
    "    \n",
    "\n",
    "    params = gaussian_moments_2d(abs(matrix))\n",
    "    if params is None:\n",
    "        return (np.nan, np.nan, np.nan, np.nan, np.nan), False\n",
    "\n",
    "    def errorfunction(p):\n",
    "        return np.ravel(\n",
    "            _gaussian_function_2d(*p)(*np.indices(matrix.shape)) - matrix\n",
    "        )\n",
    "\n",
    "    fit_params, ier = leastsq(errorfunction, params)\n",
    "    success = True if ier < 5 else False\n",
    "\n",
    "    RSS=(errorfunction(fit_params)**2).sum()\n",
    "    TSS=((matrix-np.mean(matrix))**2).sum()\n",
    "    rsq=1-RSS/TSS\n",
    "    \n",
    "    return rsq, fit_params, success\n",
    "\n",
    "\n",
    "\n",
    "def fit_2d_gaussian_stats(matrix,nShuffle=1000):\n",
    "    \"\"\"Compute empirical p-value of fiting a receptive field with a 2-dimensional Gaussian\n",
    "    distribution\n",
    "\n",
    "    Parameters\n",
    "    ----------\n",
    "    matrix : numpy.ndarray\n",
    "        2D matrix of spike counts\n",
    "    nShuffle: number of shuffles    \n",
    "\n",
    "    Returns\n",
    "    -------\n",
    "    p_value: empirical p-value of rsq\n",
    "    \n",
    "    parameters - tuple\n",
    "        peak_height : peak of distribution\n",
    "        center_y : y-coordinate of distribution center\n",
    "        center_x : x-coordinate of distribution center\n",
    "        width_y : width of distribution along x-axis\n",
    "        width_x : width of distribution along y-axis\n",
    "        rsq :     r-square value of fitting\n",
    "    success - bool\n",
    "        True if a fit was found, False otherwise\n",
    "    \"\"\"\n",
    "    \n",
    "    rsq, fit_params, success = fit_2d_gaussian(matrix)\n",
    "    \n",
    "    length_1=len(matrix[:,0])\n",
    "    length_2=len(matrix[0,:])\n",
    "    \n",
    "    shuffle_rsq=np.zeros(nShuffle)\n",
    "    for i_shuffle in range(nShuffle):\n",
    "        temp_matrix_1=matrix.reshape((length_1*length_2,1))\n",
    "        temp_matrix_2=np.random.permutation(temp_matrix_1)\n",
    "        temp_matrix_3=temp_matrix_2.reshape((length_1,length_2))\n",
    "\n",
    "        temp_rsq, temp_fit_params, temp_success = fit_2d_gaussian(temp_matrix_3)\n",
    "        shuffle_rsq[i_shuffle]=temp_rsq\n",
    "    \n",
    "    samples=len(np.argwhere(shuffle_rsq>rsq))\n",
    "    p_value= (samples+1)/(nShuffle)\n",
    "    \n",
    "    return p_value, rsq, fit_params\n",
    "    \n",
    "\n",
    "\n",
    "\n",
    "def is_rf_inverted(rf_thresh):\n",
    "    \"\"\"Checks if the receptive field mapping timulus is suppressing\n",
    "    or exciting the cell\n",
    "\n",
    "    Parameters\n",
    "    ----------\n",
    "    rf_thresh : matrix\n",
    "        matrix of spike counts at each stimulus position\n",
    "\n",
    "    Returns\n",
    "    -------\n",
    "    if_rf_inverted : bool\n",
    "        True if the receptive field is inverted\n",
    "    \"\"\"\n",
    "    edge_mask = np.zeros(rf_thresh.shape)\n",
    "\n",
    "    edge_mask[:, 0] = 1\n",
    "    edge_mask[:, -1] = 1\n",
    "    edge_mask[0, :] = 1\n",
    "    edge_mask[-1, :] = 1\n",
    "\n",
    "    num_edge_pixels = np.sum(rf_thresh * edge_mask)\n",
    "\n",
    "    return num_edge_pixels > np.sum(edge_mask) / 2\n",
    "\n",
    "\n",
    "def invert_rf(rf):\n",
    "    \"\"\"Creates an inverted version of the receptive field\n",
    "\n",
    "    Parameters\n",
    "    ----------\n",
    "    rf - matrix of spike counts at each stimulus position\n",
    "\n",
    "    Returns\n",
    "    -------\n",
    "    rf_inverted - new RF matrix\n",
    "\n",
    "    \"\"\"\n",
    "    return np.max(rf) - rf\n",
    "\n",
    "\n",
    "def threshold_rf(rf, threshold):\n",
    "    \"\"\"Creates a spatial mask based on the receptive field peak\n",
    "    and returns the x, y coordinates of the center of mass,\n",
    "    as well as the area.\n",
    "\n",
    "    Parameters\n",
    "    ----------\n",
    "    rf : numpy.ndarray\n",
    "        2D matrix of spike counts\n",
    "    threshold : float\n",
    "        Threshold as ratio of the RF's standard deviation\n",
    "\n",
    "    Returns\n",
    "    -------\n",
    "    threshold_rf : numpy.ndarray\n",
    "        Thresholded version of the original RF\n",
    "    center_x : float\n",
    "        x-coordinate of mask center of mass\n",
    "    center_y : float\n",
    "        y-coordinate of mask center of mass\n",
    "    area : float\n",
    "        area of mask\n",
    "    \"\"\"\n",
    "    rf_filt = ndi.gaussian_filter(rf, 1)\n",
    "\n",
    "    threshold_value = np.max(rf_filt) - np.std(rf_filt) * threshold\n",
    "\n",
    "    rf_thresh = np.zeros(rf.shape, dtype=\"bool\")\n",
    "    rf_thresh[rf_filt > threshold_value] = True\n",
    "\n",
    "    labels, num_features = ndi.label(rf_thresh)\n",
    "\n",
    "    best_label = np.argmax(\n",
    "        ndi.maximum(rf_filt, labels=labels, index=np.unique(labels))\n",
    "    )\n",
    "\n",
    "    labels[labels != best_label] = 0\n",
    "    labels[labels > 0] = 1\n",
    "\n",
    "    center_y, center_x = ndi.measurements.center_of_mass(labels)\n",
    "    area = float(np.sum(labels))\n",
    "\n",
    "    return labels, np.around(center_x, 4), np.around(center_y, 4), area\n",
    "\n",
    "\n",
    "def rf_on_screen(rf, center_y, center_x):\n",
    "    \"\"\"Checks whether the receptive field is on the screen, given the\n",
    "    center location.\"\"\"\n",
    "    return 0 < center_y < rf.shape[0] and 0 < center_x < rf.shape[1]\n",
    "\n",
    "\n",
    "def convert_elevation_to_degrees(\n",
    "    elevation_in_pixels, elevation_offset_degrees=-30\n",
    "):\n",
    "    \"\"\"Converts a pixel-based elevation into degrees relative to\n",
    "    center of gaze\n",
    "\n",
    "    The receptive field computed by this class is oriented such\n",
    "    that the pixel values are in the correct relative location\n",
    "    when using matplotlib.pyplot.imshow(), which places (0,0)\n",
    "    in the upper-left corner of the figure.\n",
    "\n",
    "    Therefore, we need to invert the elevation value prior\n",
    "    to converting to degrees.\n",
    "\n",
    "    Parameters\n",
    "    ----------\n",
    "    elevation_in_pixels : float\n",
    "    elevation_offset_degrees: float\n",
    "\n",
    "    Returns\n",
    "    -------\n",
    "    elevation_in_degrees : float\n",
    "    \"\"\"\n",
    "    elevation_in_degrees = (\n",
    "        convert_pixels_to_degrees(8 - elevation_in_pixels)\n",
    "        + elevation_offset_degrees\n",
    "    )\n",
    "\n",
    "    return elevation_in_degrees\n",
    "\n",
    "\n",
    "def convert_azimuth_to_degrees(azimuth_in_pixels, azimuth_offset_degrees=10):\n",
    "    \"\"\"Converts a pixel-based azimuth into degrees relative\n",
    "    to center of gaze\n",
    "\n",
    "    Parameters\n",
    "    ----------\n",
    "    azimuth_in_pixels : float\n",
    "    azimuth_offset_degrees: float\n",
    "\n",
    "    Returns\n",
    "    -------\n",
    "    azimuth_in_degrees : float\n",
    "    \"\"\"\n",
    "    azimuth_in_degrees = (\n",
    "        convert_pixels_to_degrees((azimuth_in_pixels)) + azimuth_offset_degrees\n",
    "    )\n",
    "\n",
    "    return azimuth_in_degrees\n",
    "\n",
    "\n",
    "def convert_pixels_to_degrees(value_in_pixels, degrees_to_pixels_ratio=10):\n",
    "    \"\"\"Converts a pixel-based distance into degrees\n",
    "\n",
    "    Parameters\n",
    "    ----------\n",
    "    value_in_pixels : float\n",
    "    degrees_to_pixels_ratio: float\n",
    "\n",
    "    Returns\n",
    "    -------\n",
    "    value in degrees : float\n",
    "    \"\"\"\n",
    "    return value_in_pixels * degrees_to_pixels_ratio\n"
   ]
  },
  {
   "cell_type": "code",
   "execution_count": 3,
   "id": "668d4139",
   "metadata": {},
   "outputs": [],
   "source": [
    "# Load RF data (on), select region: VISP\n",
    "rf_on=np.load('BWM_rf_on.npy')\n",
    "rf_off=np.load('BWM_rf_off.npy')"
   ]
  },
  {
   "cell_type": "code",
   "execution_count": 4,
   "id": "ee997631",
   "metadata": {},
   "outputs": [
    {
     "data": {
      "text/plain": [
       "(25144, 15, 15)"
      ]
     },
     "execution_count": 4,
     "metadata": {},
     "output_type": "execute_result"
    }
   ],
   "source": [
    "rf_on.shape"
   ]
  },
  {
   "cell_type": "code",
   "execution_count": 5,
   "id": "41374776",
   "metadata": {},
   "outputs": [
    {
     "data": {
      "text/plain": [
       "(25144, 15, 15)"
      ]
     },
     "execution_count": 5,
     "metadata": {},
     "output_type": "execute_result"
    }
   ],
   "source": [
    "rf_off.shape"
   ]
  },
  {
   "cell_type": "code",
   "execution_count": 6,
   "id": "1d4ce277",
   "metadata": {
    "scrolled": true
   },
   "outputs": [
    {
     "name": "stderr",
     "output_type": "stream",
     "text": [
      "/opt/anaconda3/envs/iblenv/lib/python3.9/site-packages/scipy/optimize/_minpack_py.py:494: RuntimeWarning: Number of calls to function has reached maxfev = 1200.\n",
      "  warnings.warn(errors[info][0], RuntimeWarning)\n"
     ]
    },
    {
     "ename": "KeyboardInterrupt",
     "evalue": "",
     "output_type": "error",
     "traceback": [
      "\u001b[0;31m---------------------------------------------------------------------------\u001b[0m",
      "\u001b[0;31mKeyboardInterrupt\u001b[0m                         Traceback (most recent call last)",
      "\u001b[0;32m/var/folders/dj/j81q4jt50tg47_26s7_lqk900000gn/T/ipykernel_1398/148411108.py\u001b[0m in \u001b[0;36m<module>\u001b[0;34m\u001b[0m\n\u001b[1;32m     64\u001b[0m \u001b[0;34m\u001b[0m\u001b[0m\n\u001b[1;32m     65\u001b[0m         \u001b[0mrf_z_on_off\u001b[0m\u001b[0;34m=\u001b[0m \u001b[0mrf_on\u001b[0m\u001b[0;34m[\u001b[0m\u001b[0mi_unit\u001b[0m\u001b[0;34m,\u001b[0m\u001b[0;34m:\u001b[0m\u001b[0;34m,\u001b[0m\u001b[0;34m:\u001b[0m\u001b[0;34m]\u001b[0m\u001b[0;34m-\u001b[0m\u001b[0mnp\u001b[0m\u001b[0;34m.\u001b[0m\u001b[0mmean\u001b[0m\u001b[0;34m(\u001b[0m\u001b[0mrf_on\u001b[0m\u001b[0;34m[\u001b[0m\u001b[0mi_unit\u001b[0m\u001b[0;34m,\u001b[0m\u001b[0;34m:\u001b[0m\u001b[0;34m,\u001b[0m\u001b[0;34m:\u001b[0m\u001b[0;34m]\u001b[0m\u001b[0;34m)\u001b[0m \u001b[0;34m+\u001b[0m \u001b[0mrf_off\u001b[0m\u001b[0;34m[\u001b[0m\u001b[0mi_unit\u001b[0m\u001b[0;34m,\u001b[0m\u001b[0;34m:\u001b[0m\u001b[0;34m,\u001b[0m\u001b[0;34m:\u001b[0m\u001b[0;34m]\u001b[0m\u001b[0;34m-\u001b[0m\u001b[0mnp\u001b[0m\u001b[0;34m.\u001b[0m\u001b[0mmean\u001b[0m\u001b[0;34m(\u001b[0m\u001b[0mrf_off\u001b[0m\u001b[0;34m[\u001b[0m\u001b[0mi_unit\u001b[0m\u001b[0;34m,\u001b[0m\u001b[0;34m:\u001b[0m\u001b[0;34m,\u001b[0m\u001b[0;34m:\u001b[0m\u001b[0;34m]\u001b[0m\u001b[0;34m)\u001b[0m\u001b[0;34m\u001b[0m\u001b[0;34m\u001b[0m\u001b[0m\n\u001b[0;32m---> 66\u001b[0;31m         \u001b[0mp_value_3\u001b[0m\u001b[0;34m,\u001b[0m \u001b[0mrsq_3\u001b[0m\u001b[0;34m,\u001b[0m \u001b[0mfit_params_3\u001b[0m\u001b[0;34m=\u001b[0m\u001b[0mfit_2d_gaussian_stats\u001b[0m\u001b[0;34m(\u001b[0m\u001b[0mrf_z_on_off\u001b[0m\u001b[0;34m,\u001b[0m\u001b[0mnShuffle\u001b[0m\u001b[0;34m=\u001b[0m\u001b[0;36m200\u001b[0m\u001b[0;34m)\u001b[0m\u001b[0;34m\u001b[0m\u001b[0;34m\u001b[0m\u001b[0m\n\u001b[0m\u001b[1;32m     67\u001b[0m \u001b[0;34m\u001b[0m\u001b[0m\n\u001b[1;32m     68\u001b[0m \u001b[0;34m\u001b[0m\u001b[0m\n",
      "\u001b[0;32m/var/folders/dj/j81q4jt50tg47_26s7_lqk900000gn/T/ipykernel_1398/4098033830.py\u001b[0m in \u001b[0;36mfit_2d_gaussian_stats\u001b[0;34m(matrix, nShuffle)\u001b[0m\n\u001b[1;32m    200\u001b[0m         \u001b[0mtemp_matrix_3\u001b[0m\u001b[0;34m=\u001b[0m\u001b[0mtemp_matrix_2\u001b[0m\u001b[0;34m.\u001b[0m\u001b[0mreshape\u001b[0m\u001b[0;34m(\u001b[0m\u001b[0;34m(\u001b[0m\u001b[0mlength_1\u001b[0m\u001b[0;34m,\u001b[0m\u001b[0mlength_2\u001b[0m\u001b[0;34m)\u001b[0m\u001b[0;34m)\u001b[0m\u001b[0;34m\u001b[0m\u001b[0;34m\u001b[0m\u001b[0m\n\u001b[1;32m    201\u001b[0m \u001b[0;34m\u001b[0m\u001b[0m\n\u001b[0;32m--> 202\u001b[0;31m         \u001b[0mtemp_rsq\u001b[0m\u001b[0;34m,\u001b[0m \u001b[0mtemp_fit_params\u001b[0m\u001b[0;34m,\u001b[0m \u001b[0mtemp_success\u001b[0m \u001b[0;34m=\u001b[0m \u001b[0mfit_2d_gaussian\u001b[0m\u001b[0;34m(\u001b[0m\u001b[0mtemp_matrix_3\u001b[0m\u001b[0;34m)\u001b[0m\u001b[0;34m\u001b[0m\u001b[0;34m\u001b[0m\u001b[0m\n\u001b[0m\u001b[1;32m    203\u001b[0m         \u001b[0mshuffle_rsq\u001b[0m\u001b[0;34m[\u001b[0m\u001b[0mi_shuffle\u001b[0m\u001b[0;34m]\u001b[0m\u001b[0;34m=\u001b[0m\u001b[0mtemp_rsq\u001b[0m\u001b[0;34m\u001b[0m\u001b[0;34m\u001b[0m\u001b[0m\n\u001b[1;32m    204\u001b[0m \u001b[0;34m\u001b[0m\u001b[0m\n",
      "\u001b[0;32m/var/folders/dj/j81q4jt50tg47_26s7_lqk900000gn/T/ipykernel_1398/4098033830.py\u001b[0m in \u001b[0;36mfit_2d_gaussian\u001b[0;34m(matrix)\u001b[0m\n\u001b[1;32m    153\u001b[0m         )\n\u001b[1;32m    154\u001b[0m \u001b[0;34m\u001b[0m\u001b[0m\n\u001b[0;32m--> 155\u001b[0;31m     \u001b[0mfit_params\u001b[0m\u001b[0;34m,\u001b[0m \u001b[0mier\u001b[0m \u001b[0;34m=\u001b[0m \u001b[0mleastsq\u001b[0m\u001b[0;34m(\u001b[0m\u001b[0merrorfunction\u001b[0m\u001b[0;34m,\u001b[0m \u001b[0mparams\u001b[0m\u001b[0;34m)\u001b[0m\u001b[0;34m\u001b[0m\u001b[0;34m\u001b[0m\u001b[0m\n\u001b[0m\u001b[1;32m    156\u001b[0m     \u001b[0msuccess\u001b[0m \u001b[0;34m=\u001b[0m \u001b[0;32mTrue\u001b[0m \u001b[0;32mif\u001b[0m \u001b[0mier\u001b[0m \u001b[0;34m<\u001b[0m \u001b[0;36m5\u001b[0m \u001b[0;32melse\u001b[0m \u001b[0;32mFalse\u001b[0m\u001b[0;34m\u001b[0m\u001b[0;34m\u001b[0m\u001b[0m\n\u001b[1;32m    157\u001b[0m \u001b[0;34m\u001b[0m\u001b[0m\n",
      "\u001b[0;32m/opt/anaconda3/envs/iblenv/lib/python3.9/site-packages/scipy/optimize/_minpack_py.py\u001b[0m in \u001b[0;36mleastsq\u001b[0;34m(func, x0, args, Dfun, full_output, col_deriv, ftol, xtol, gtol, maxfev, epsfcn, factor, diag)\u001b[0m\n\u001b[1;32m    426\u001b[0m         \u001b[0;32mif\u001b[0m \u001b[0mmaxfev\u001b[0m \u001b[0;34m==\u001b[0m \u001b[0;36m0\u001b[0m\u001b[0;34m:\u001b[0m\u001b[0;34m\u001b[0m\u001b[0;34m\u001b[0m\u001b[0m\n\u001b[1;32m    427\u001b[0m             \u001b[0mmaxfev\u001b[0m \u001b[0;34m=\u001b[0m \u001b[0;36m200\u001b[0m\u001b[0;34m*\u001b[0m\u001b[0;34m(\u001b[0m\u001b[0mn\u001b[0m \u001b[0;34m+\u001b[0m \u001b[0;36m1\u001b[0m\u001b[0;34m)\u001b[0m\u001b[0;34m\u001b[0m\u001b[0;34m\u001b[0m\u001b[0m\n\u001b[0;32m--> 428\u001b[0;31m         retval = _minpack._lmdif(func, x0, args, full_output, ftol, xtol,\n\u001b[0m\u001b[1;32m    429\u001b[0m                                  gtol, maxfev, epsfcn, factor, diag)\n\u001b[1;32m    430\u001b[0m     \u001b[0;32melse\u001b[0m\u001b[0;34m:\u001b[0m\u001b[0;34m\u001b[0m\u001b[0;34m\u001b[0m\u001b[0m\n",
      "\u001b[0;32m/var/folders/dj/j81q4jt50tg47_26s7_lqk900000gn/T/ipykernel_1398/4098033830.py\u001b[0m in \u001b[0;36merrorfunction\u001b[0;34m(p)\u001b[0m\n\u001b[1;32m    150\u001b[0m     \u001b[0;32mdef\u001b[0m \u001b[0merrorfunction\u001b[0m\u001b[0;34m(\u001b[0m\u001b[0mp\u001b[0m\u001b[0;34m)\u001b[0m\u001b[0;34m:\u001b[0m\u001b[0;34m\u001b[0m\u001b[0;34m\u001b[0m\u001b[0m\n\u001b[1;32m    151\u001b[0m         return np.ravel(\n\u001b[0;32m--> 152\u001b[0;31m             \u001b[0m_gaussian_function_2d\u001b[0m\u001b[0;34m(\u001b[0m\u001b[0;34m*\u001b[0m\u001b[0mp\u001b[0m\u001b[0;34m)\u001b[0m\u001b[0;34m(\u001b[0m\u001b[0;34m*\u001b[0m\u001b[0mnp\u001b[0m\u001b[0;34m.\u001b[0m\u001b[0mindices\u001b[0m\u001b[0;34m(\u001b[0m\u001b[0mmatrix\u001b[0m\u001b[0;34m.\u001b[0m\u001b[0mshape\u001b[0m\u001b[0;34m)\u001b[0m\u001b[0;34m)\u001b[0m \u001b[0;34m-\u001b[0m \u001b[0mmatrix\u001b[0m\u001b[0;34m\u001b[0m\u001b[0;34m\u001b[0m\u001b[0m\n\u001b[0m\u001b[1;32m    153\u001b[0m         )\n\u001b[1;32m    154\u001b[0m \u001b[0;34m\u001b[0m\u001b[0m\n",
      "\u001b[0;32m/var/folders/dj/j81q4jt50tg47_26s7_lqk900000gn/T/ipykernel_1398/4098033830.py\u001b[0m in \u001b[0;36m<lambda>\u001b[0;34m(y, x)\u001b[0m\n\u001b[1;32m     23\u001b[0m     \"\"\"\n\u001b[1;32m     24\u001b[0m \u001b[0;34m\u001b[0m\u001b[0m\n\u001b[0;32m---> 25\u001b[0;31m     return lambda y, x:  peak_height * np.exp(\n\u001b[0m\u001b[1;32m     26\u001b[0m         \u001b[0;34m-\u001b[0m\u001b[0;34m(\u001b[0m\u001b[0;34m(\u001b[0m\u001b[0;34m(\u001b[0m\u001b[0mcenter_y\u001b[0m \u001b[0;34m-\u001b[0m \u001b[0my\u001b[0m\u001b[0;34m)\u001b[0m \u001b[0;34m/\u001b[0m \u001b[0mwidth_y\u001b[0m\u001b[0;34m)\u001b[0m \u001b[0;34m**\u001b[0m \u001b[0;36m2\u001b[0m \u001b[0;34m+\u001b[0m \u001b[0;34m(\u001b[0m\u001b[0;34m(\u001b[0m\u001b[0mcenter_x\u001b[0m \u001b[0;34m-\u001b[0m \u001b[0mx\u001b[0m\u001b[0;34m)\u001b[0m \u001b[0;34m/\u001b[0m \u001b[0mwidth_x\u001b[0m\u001b[0;34m)\u001b[0m \u001b[0;34m**\u001b[0m \u001b[0;36m2\u001b[0m\u001b[0;34m)\u001b[0m\u001b[0;34m\u001b[0m\u001b[0;34m\u001b[0m\u001b[0m\n\u001b[1;32m     27\u001b[0m         \u001b[0;34m/\u001b[0m \u001b[0;36m2\u001b[0m\u001b[0;34m\u001b[0m\u001b[0;34m\u001b[0m\u001b[0m\n",
      "\u001b[0;31mKeyboardInterrupt\u001b[0m: "
     ]
    }
   ],
   "source": [
    "num_unit=len(rf_on[:,0,0])\n",
    "\n",
    "\n",
    "ses_fit_params_on=np.zeros((num_unit,5))\n",
    "ses_fit_params_off=np.zeros((num_unit,5))\n",
    "ses_fit_params_on_off=np.zeros((num_unit,5))\n",
    "\n",
    "ses_p_value_on=np.zeros(num_unit)\n",
    "ses_p_value_off=np.zeros(num_unit)\n",
    "ses_p_value_on_off=np.zeros(num_unit)\n",
    "\n",
    "ses_r_sq_on=np.zeros(num_unit)\n",
    "ses_r_sq_off=np.zeros(num_unit)\n",
    "ses_r_sq_on_off=np.zeros(num_unit)\n",
    "\n",
    "\n",
    "##### labels of inclulde units ######\n",
    "ses_include_on=np.zeros(num_unit)\n",
    "ses_include_off=np.zeros(num_unit)\n",
    "\n",
    "\n",
    "\n",
    "\n",
    "\n",
    "\n",
    "for i_unit in range(num_unit):\n",
    "    \n",
    "    \n",
    "    ses_p_value_on[i_unit]=np.nan\n",
    "    ses_r_sq_on[i_unit]=np.nan\n",
    "    \n",
    "    ses_p_value_off[i_unit]=np.nan\n",
    "    ses_r_sq_off[i_unit]=np.nan\n",
    "    \n",
    "    ses_p_value_on_off[i_unit]=np.nan\n",
    "    ses_r_sq_on_off[i_unit]=np.nan\n",
    "\n",
    "   \n",
    "    if np.max(rf_on[i_unit,:,:])>0:\n",
    "        \n",
    "        \n",
    "        rf_z_on= rf_on[i_unit,:,:]-np.mean(rf_on[i_unit,:,:])\n",
    "        p_value, rsq, fit_params=fit_2d_gaussian_stats(rf_z_on,nShuffle=200)\n",
    "        \n",
    "        ses_include_on[i_unit]=1\n",
    "        \n",
    "        ses_p_value_on[i_unit]=p_value\n",
    "        ses_r_sq_on[i_unit]=rsq\n",
    "        ses_fit_params_on[i_unit,:]=fit_params\n",
    "    \n",
    "    if np.max(rf_off[i_unit,:,:])>0:\n",
    "        \n",
    "        \n",
    "        rf_z_off= rf_off[i_unit,:,:]-np.mean(rf_off[i_unit,:,:])\n",
    "        p_value_2, rsq_2, fit_params_2=fit_2d_gaussian_stats(rf_z_off,nShuffle=200)\n",
    "        \n",
    "        ses_include_off[i_unit]=1\n",
    "        \n",
    "        ses_p_value_off[i_unit]=p_value_2\n",
    "        ses_r_sq_off[i_unit]=rsq_2\n",
    "        ses_fit_params_off[i_unit,:]=fit_params_2\n",
    "    \n",
    "    if np.max(rf_on[i_unit,:,:])*np.max(rf_off[i_unit,:,:])>0:\n",
    "        \n",
    "        rf_z_on_off= rf_on[i_unit,:,:]-np.mean(rf_on[i_unit,:,:]) + rf_off[i_unit,:,:]-np.mean(rf_off[i_unit,:,:])\n",
    "        p_value_3, rsq_3, fit_params_3=fit_2d_gaussian_stats(rf_z_on_off,nShuffle=200)\n",
    "        \n",
    "        \n",
    "        ses_p_value_on_off[i_unit]=p_value_3\n",
    "        ses_r_sq_on_off[i_unit]=rsq_3\n",
    "        ses_fit_params_on_off[i_unit,:]=fit_params_3"
   ]
  },
  {
   "cell_type": "code",
   "execution_count": 44,
   "id": "88544390",
   "metadata": {},
   "outputs": [],
   "source": [
    "for i_unit in range(9780,num_unit):\n",
    "    \n",
    "    \n",
    "    ses_p_value_on[i_unit]=np.nan\n",
    "    ses_r_sq_on[i_unit]=np.nan\n",
    "    \n",
    "    ses_p_value_off[i_unit]=np.nan\n",
    "    ses_r_sq_off[i_unit]=np.nan\n",
    "    \n",
    "    ses_p_value_on_off[i_unit]=np.nan\n",
    "    ses_r_sq_on_off[i_unit]=np.nan\n",
    "\n",
    "   \n",
    "    if np.max(rf_on[i_unit,:,:])>0:\n",
    "        \n",
    "        \n",
    "        rf_z_on= rf_on[i_unit,:,:]-np.mean(rf_on[i_unit,:,:])\n",
    "        p_value, rsq, fit_params=fit_2d_gaussian_stats(rf_z_on,nShuffle=200)\n",
    "        \n",
    "        ses_include_on[i_unit]=1\n",
    "        \n",
    "        ses_p_value_on[i_unit]=p_value\n",
    "        ses_r_sq_on[i_unit]=rsq\n",
    "        ses_fit_params_on[i_unit,:]=fit_params\n",
    "    \n",
    "    if np.max(rf_off[i_unit,:,:])>0:\n",
    "        \n",
    "        \n",
    "        rf_z_off= rf_off[i_unit,:,:]-np.mean(rf_off[i_unit,:,:])\n",
    "        p_value_2, rsq_2, fit_params_2=fit_2d_gaussian_stats(rf_z_off,nShuffle=200)\n",
    "        \n",
    "        ses_include_off[i_unit]=1\n",
    "        \n",
    "        ses_p_value_off[i_unit]=p_value_2\n",
    "        ses_r_sq_off[i_unit]=rsq_2\n",
    "        ses_fit_params_off[i_unit,:]=fit_params_2\n",
    "    \n",
    "    if np.max(rf_on[i_unit,:,:])*np.max(rf_off[i_unit,:,:])>0:\n",
    "        \n",
    "        rf_z_on_off= rf_on[i_unit,:,:]-np.mean(rf_on[i_unit,:,:]) + rf_off[i_unit,:,:]-np.mean(rf_off[i_unit,:,:])\n",
    "        p_value_3, rsq_3, fit_params_3=fit_2d_gaussian_stats(rf_z_on_off,nShuffle=200)\n",
    "        \n",
    "        \n",
    "        ses_p_value_on_off[i_unit]=p_value_3\n",
    "        ses_r_sq_on_off[i_unit]=rsq_3\n",
    "        ses_fit_params_on_off[i_unit,:]=fit_params_3"
   ]
  },
  {
   "cell_type": "code",
   "execution_count": null,
   "id": "0c25d267",
   "metadata": {},
   "outputs": [],
   "source": []
  },
  {
   "cell_type": "code",
   "execution_count": 45,
   "id": "113e7d7d",
   "metadata": {},
   "outputs": [
    {
     "data": {
      "text/plain": [
       "25143"
      ]
     },
     "execution_count": 45,
     "metadata": {},
     "output_type": "execute_result"
    }
   ],
   "source": [
    "i_unit"
   ]
  },
  {
   "cell_type": "code",
   "execution_count": 46,
   "id": "ff129e06",
   "metadata": {},
   "outputs": [
    {
     "data": {
      "text/plain": [
       "813"
      ]
     },
     "execution_count": 46,
     "metadata": {},
     "output_type": "execute_result"
    }
   ],
   "source": [
    "len(np.argwhere(ses_p_value_off<0.01))"
   ]
  },
  {
   "cell_type": "code",
   "execution_count": 47,
   "id": "1be594f4",
   "metadata": {},
   "outputs": [
    {
     "data": {
      "text/plain": [
       "624"
      ]
     },
     "execution_count": 47,
     "metadata": {},
     "output_type": "execute_result"
    }
   ],
   "source": [
    "len(np.argwhere(ses_p_value_on<0.01))"
   ]
  },
  {
   "cell_type": "code",
   "execution_count": 48,
   "id": "ab9714cf",
   "metadata": {},
   "outputs": [
    {
     "data": {
      "text/plain": [
       "1008"
      ]
     },
     "execution_count": 48,
     "metadata": {},
     "output_type": "execute_result"
    }
   ],
   "source": [
    "len(np.argwhere(ses_p_value_on_off<0.01))"
   ]
  },
  {
   "cell_type": "code",
   "execution_count": 54,
   "id": "da1e2f4d",
   "metadata": {},
   "outputs": [],
   "source": [
    "np.save('BWM_2024_rf_include_on',ses_include_on)\n",
    "np.save('BWM_2024_rf_p_value_on',ses_p_value_on)\n",
    "np.save('BWM_2024_rf_r_sq_on',ses_r_sq_on)\n",
    "np.save('BWM_2024_rf_fit_params_on',ses_fit_params_on)\n",
    "\n",
    "\n",
    "np.save('BWM_2024_rf_include_off',ses_include_off)\n",
    "np.save('BWM_2024_rf_p_value_off',ses_p_value_off)\n",
    "np.save('BWM_2024_rf_r_sq_off',ses_r_sq_off)\n",
    "np.save('BWM_2024_rf_fit_params_off',ses_fit_params_off)\n",
    "\n",
    "\n",
    "np.save('BWM_2024_rf_p_value_on_off',ses_p_value_on_off)\n",
    "np.save('BWM_2024_rf_r_sq_on_off',ses_r_sq_on_off)\n",
    "np.save('BWM_2024_rf_fit_params_on_off',ses_fit_params_on_off)\n"
   ]
  },
  {
   "cell_type": "code",
   "execution_count": null,
   "id": "dfa01d97",
   "metadata": {},
   "outputs": [],
   "source": []
  },
  {
   "cell_type": "code",
   "execution_count": null,
   "id": "566555b7",
   "metadata": {},
   "outputs": [],
   "source": []
  },
  {
   "cell_type": "code",
   "execution_count": null,
   "id": "df22fe80",
   "metadata": {},
   "outputs": [],
   "source": []
  },
  {
   "cell_type": "code",
   "execution_count": null,
   "id": "5a5d9e9e",
   "metadata": {},
   "outputs": [],
   "source": []
  },
  {
   "cell_type": "code",
   "execution_count": null,
   "id": "558879b3",
   "metadata": {},
   "outputs": [],
   "source": []
  },
  {
   "cell_type": "code",
   "execution_count": null,
   "id": "02d8b9ad",
   "metadata": {},
   "outputs": [],
   "source": []
  },
  {
   "cell_type": "code",
   "execution_count": 43,
   "id": "0e4dda20",
   "metadata": {},
   "outputs": [
    {
     "data": {
      "text/plain": [
       "9780"
      ]
     },
     "execution_count": 43,
     "metadata": {},
     "output_type": "execute_result"
    }
   ],
   "source": [
    "i_unit"
   ]
  },
  {
   "cell_type": "code",
   "execution_count": 42,
   "id": "6a9b0950",
   "metadata": {},
   "outputs": [
    {
     "data": {
      "text/plain": [
       "nan"
      ]
     },
     "execution_count": 42,
     "metadata": {},
     "output_type": "execute_result"
    }
   ],
   "source": [
    "ses_p_value_on_off[i_unit]"
   ]
  },
  {
   "cell_type": "code",
   "execution_count": null,
   "id": "612c8d84",
   "metadata": {},
   "outputs": [],
   "source": []
  },
  {
   "cell_type": "code",
   "execution_count": 7,
   "id": "4b42010e",
   "metadata": {},
   "outputs": [
    {
     "data": {
      "text/plain": [
       "9780"
      ]
     },
     "execution_count": 7,
     "metadata": {},
     "output_type": "execute_result"
    }
   ],
   "source": [
    "i_unit"
   ]
  },
  {
   "cell_type": "code",
   "execution_count": 39,
   "id": "d8f8e733",
   "metadata": {},
   "outputs": [
    {
     "data": {
      "text/plain": [
       "245"
      ]
     },
     "execution_count": 39,
     "metadata": {},
     "output_type": "execute_result"
    }
   ],
   "source": [
    "len(np.argwhere(ses_p_value_on[0:9780]<0.01))"
   ]
  },
  {
   "cell_type": "code",
   "execution_count": 40,
   "id": "2273f061",
   "metadata": {},
   "outputs": [
    {
     "data": {
      "text/plain": [
       "374"
      ]
     },
     "execution_count": 40,
     "metadata": {},
     "output_type": "execute_result"
    }
   ],
   "source": [
    "len(np.argwhere(ses_p_value_off[0:9780]<0.01))"
   ]
  },
  {
   "cell_type": "code",
   "execution_count": null,
   "id": "ffb5c5c1",
   "metadata": {},
   "outputs": [],
   "source": []
  },
  {
   "cell_type": "code",
   "execution_count": 16,
   "id": "ffeb8ad2",
   "metadata": {},
   "outputs": [
    {
     "data": {
      "text/plain": [
       "array([[  24],\n",
       "       [  36],\n",
       "       [  42],\n",
       "       [  49],\n",
       "       [  59],\n",
       "       [ 108],\n",
       "       [ 188],\n",
       "       [ 196],\n",
       "       [ 262],\n",
       "       [ 374],\n",
       "       [ 394],\n",
       "       [ 447],\n",
       "       [ 458],\n",
       "       [ 474],\n",
       "       [ 477],\n",
       "       [ 574],\n",
       "       [ 577],\n",
       "       [ 710],\n",
       "       [ 783],\n",
       "       [ 802],\n",
       "       [ 812],\n",
       "       [ 816],\n",
       "       [ 822],\n",
       "       [ 826],\n",
       "       [ 878],\n",
       "       [ 912],\n",
       "       [1109],\n",
       "       [1163],\n",
       "       [1340],\n",
       "       [1350],\n",
       "       [1423],\n",
       "       [1464],\n",
       "       [1550],\n",
       "       [1560],\n",
       "       [1600],\n",
       "       [1608],\n",
       "       [1621],\n",
       "       [1720],\n",
       "       [1810],\n",
       "       [1966],\n",
       "       [1968],\n",
       "       [1969],\n",
       "       [1971],\n",
       "       [1976],\n",
       "       [1977],\n",
       "       [1993],\n",
       "       [2000],\n",
       "       [2001],\n",
       "       [2003],\n",
       "       [2004],\n",
       "       [2006],\n",
       "       [2007],\n",
       "       [2008],\n",
       "       [2012],\n",
       "       [2013],\n",
       "       [2016],\n",
       "       [2017],\n",
       "       [2049],\n",
       "       [2067],\n",
       "       [2069],\n",
       "       [2070],\n",
       "       [2072],\n",
       "       [2075],\n",
       "       [2076],\n",
       "       [2078],\n",
       "       [2081],\n",
       "       [2082],\n",
       "       [2102],\n",
       "       [2106],\n",
       "       [2116],\n",
       "       [2179],\n",
       "       [2186],\n",
       "       [2194],\n",
       "       [2207],\n",
       "       [2210],\n",
       "       [2215],\n",
       "       [2220],\n",
       "       [2223],\n",
       "       [2256],\n",
       "       [2525],\n",
       "       [2572],\n",
       "       [2686],\n",
       "       [2694],\n",
       "       [2697],\n",
       "       [2711],\n",
       "       [2712],\n",
       "       [2713],\n",
       "       [2715],\n",
       "       [2717],\n",
       "       [2720],\n",
       "       [2731],\n",
       "       [2779],\n",
       "       [2829],\n",
       "       [2883],\n",
       "       [2913],\n",
       "       [2914],\n",
       "       [2933],\n",
       "       [2934],\n",
       "       [2937],\n",
       "       [2939],\n",
       "       [2941],\n",
       "       [2942],\n",
       "       [2943],\n",
       "       [2945],\n",
       "       [2956],\n",
       "       [3065],\n",
       "       [3073],\n",
       "       [3108],\n",
       "       [3226],\n",
       "       [3337],\n",
       "       [3352],\n",
       "       [3410],\n",
       "       [3411],\n",
       "       [3551],\n",
       "       [3581],\n",
       "       [3617],\n",
       "       [3655],\n",
       "       [3668],\n",
       "       [3747],\n",
       "       [3870],\n",
       "       [3901],\n",
       "       [3948],\n",
       "       [3950],\n",
       "       [3953],\n",
       "       [3960],\n",
       "       [3986],\n",
       "       [3989],\n",
       "       [4011],\n",
       "       [4012],\n",
       "       [4241],\n",
       "       [4300],\n",
       "       [4361],\n",
       "       [4475],\n",
       "       [4482],\n",
       "       [4560],\n",
       "       [4637],\n",
       "       [4640],\n",
       "       [4641],\n",
       "       [4715],\n",
       "       [4730],\n",
       "       [4827],\n",
       "       [4842],\n",
       "       [4900],\n",
       "       [4909],\n",
       "       [4913],\n",
       "       [4920],\n",
       "       [4924],\n",
       "       [4926],\n",
       "       [4929],\n",
       "       [4930],\n",
       "       [4972],\n",
       "       [4991],\n",
       "       [5014],\n",
       "       [5222],\n",
       "       [5460],\n",
       "       [5490],\n",
       "       [5497],\n",
       "       [5512],\n",
       "       [5740],\n",
       "       [5959],\n",
       "       [5989],\n",
       "       [6024],\n",
       "       [6029],\n",
       "       [6132],\n",
       "       [6186],\n",
       "       [6230],\n",
       "       [6236],\n",
       "       [6237],\n",
       "       [6263],\n",
       "       [6315],\n",
       "       [6621],\n",
       "       [6622],\n",
       "       [6661],\n",
       "       [6674],\n",
       "       [6713],\n",
       "       [6816],\n",
       "       [6829],\n",
       "       [6854],\n",
       "       [6874],\n",
       "       [6913],\n",
       "       [7078],\n",
       "       [7168],\n",
       "       [7176],\n",
       "       [7178],\n",
       "       [7179],\n",
       "       [7180],\n",
       "       [7181],\n",
       "       [7183],\n",
       "       [7187],\n",
       "       [7188],\n",
       "       [7190],\n",
       "       [7194],\n",
       "       [7195],\n",
       "       [7395],\n",
       "       [7435],\n",
       "       [7520],\n",
       "       [7682],\n",
       "       [7711],\n",
       "       [7839],\n",
       "       [7881],\n",
       "       [7884],\n",
       "       [7888],\n",
       "       [7918],\n",
       "       [7953],\n",
       "       [7962],\n",
       "       [8008],\n",
       "       [8011],\n",
       "       [8116],\n",
       "       [8265],\n",
       "       [8287],\n",
       "       [8298],\n",
       "       [8319],\n",
       "       [8424],\n",
       "       [8429],\n",
       "       [8432],\n",
       "       [8433],\n",
       "       [8435],\n",
       "       [8436],\n",
       "       [8438],\n",
       "       [8439],\n",
       "       [8449],\n",
       "       [8550],\n",
       "       [8578],\n",
       "       [8638],\n",
       "       [8701],\n",
       "       [8754],\n",
       "       [8821],\n",
       "       [8971],\n",
       "       [9056],\n",
       "       [9061],\n",
       "       [9096],\n",
       "       [9098],\n",
       "       [9101],\n",
       "       [9115],\n",
       "       [9208],\n",
       "       [9230],\n",
       "       [9240],\n",
       "       [9297],\n",
       "       [9689],\n",
       "       [9693],\n",
       "       [9702],\n",
       "       [9707],\n",
       "       [9714],\n",
       "       [9715],\n",
       "       [9779]])"
      ]
     },
     "execution_count": 16,
     "metadata": {},
     "output_type": "execute_result"
    }
   ],
   "source": [
    "np.argwhere(ses_p_value_on[0:9780]<0.01)"
   ]
  },
  {
   "cell_type": "code",
   "execution_count": 25,
   "id": "c5f1ed21",
   "metadata": {},
   "outputs": [
    {
     "data": {
      "text/plain": [
       "array([[  42],\n",
       "       [  59],\n",
       "       [  86],\n",
       "       [ 108],\n",
       "       [ 158],\n",
       "       [ 188],\n",
       "       [ 193],\n",
       "       [ 205],\n",
       "       [ 222],\n",
       "       [ 234],\n",
       "       [ 270],\n",
       "       [ 271],\n",
       "       [ 319],\n",
       "       [ 321],\n",
       "       [ 371],\n",
       "       [ 379],\n",
       "       [ 391],\n",
       "       [ 397],\n",
       "       [ 409],\n",
       "       [ 418],\n",
       "       [ 420],\n",
       "       [ 421],\n",
       "       [ 438],\n",
       "       [ 443],\n",
       "       [ 447],\n",
       "       [ 453],\n",
       "       [ 455],\n",
       "       [ 474],\n",
       "       [ 475],\n",
       "       [ 477],\n",
       "       [ 485],\n",
       "       [ 539],\n",
       "       [ 546],\n",
       "       [ 589],\n",
       "       [ 662],\n",
       "       [ 665],\n",
       "       [ 698],\n",
       "       [ 710],\n",
       "       [ 716],\n",
       "       [ 727],\n",
       "       [ 764],\n",
       "       [ 766],\n",
       "       [ 788],\n",
       "       [ 802],\n",
       "       [ 812],\n",
       "       [ 826],\n",
       "       [ 867],\n",
       "       [ 886],\n",
       "       [ 912],\n",
       "       [ 931],\n",
       "       [1163],\n",
       "       [1352],\n",
       "       [1376],\n",
       "       [1397],\n",
       "       [1409],\n",
       "       [1416],\n",
       "       [1424],\n",
       "       [1433],\n",
       "       [1439],\n",
       "       [1464],\n",
       "       [1530],\n",
       "       [1533],\n",
       "       [1550],\n",
       "       [1561],\n",
       "       [1564],\n",
       "       [1600],\n",
       "       [1608],\n",
       "       [1621],\n",
       "       [1631],\n",
       "       [1636],\n",
       "       [1647],\n",
       "       [1688],\n",
       "       [1720],\n",
       "       [1780],\n",
       "       [1883],\n",
       "       [1963],\n",
       "       [1969],\n",
       "       [2001],\n",
       "       [2004],\n",
       "       [2007],\n",
       "       [2013],\n",
       "       [2016],\n",
       "       [2026],\n",
       "       [2070],\n",
       "       [2076],\n",
       "       [2082],\n",
       "       [2087],\n",
       "       [2102],\n",
       "       [2107],\n",
       "       [2116],\n",
       "       [2124],\n",
       "       [2179],\n",
       "       [2194],\n",
       "       [2211],\n",
       "       [2226],\n",
       "       [2309],\n",
       "       [2346],\n",
       "       [2352],\n",
       "       [2387],\n",
       "       [2397],\n",
       "       [2414],\n",
       "       [2442],\n",
       "       [2478],\n",
       "       [2508],\n",
       "       [2518],\n",
       "       [2525],\n",
       "       [2553],\n",
       "       [2581],\n",
       "       [2611],\n",
       "       [2622],\n",
       "       [2634],\n",
       "       [2671],\n",
       "       [2694],\n",
       "       [2713],\n",
       "       [2715],\n",
       "       [2731],\n",
       "       [2824],\n",
       "       [2829],\n",
       "       [2837],\n",
       "       [2856],\n",
       "       [2858],\n",
       "       [2914],\n",
       "       [2933],\n",
       "       [2934],\n",
       "       [2937],\n",
       "       [2939],\n",
       "       [2941],\n",
       "       [2942],\n",
       "       [2945],\n",
       "       [2980],\n",
       "       [2989],\n",
       "       [3038],\n",
       "       [3054],\n",
       "       [3063],\n",
       "       [3079],\n",
       "       [3081],\n",
       "       [3090],\n",
       "       [3108],\n",
       "       [3117],\n",
       "       [3136],\n",
       "       [3144],\n",
       "       [3149],\n",
       "       [3173],\n",
       "       [3242],\n",
       "       [3244],\n",
       "       [3352],\n",
       "       [3376],\n",
       "       [3395],\n",
       "       [3502],\n",
       "       [3506],\n",
       "       [3521],\n",
       "       [3557],\n",
       "       [3581],\n",
       "       [3584],\n",
       "       [3617],\n",
       "       [3712],\n",
       "       [3723],\n",
       "       [3794],\n",
       "       [3817],\n",
       "       [3870],\n",
       "       [3924],\n",
       "       [3934],\n",
       "       [3948],\n",
       "       [3953],\n",
       "       [3960],\n",
       "       [3981],\n",
       "       [4015],\n",
       "       [4055],\n",
       "       [4217],\n",
       "       [4228],\n",
       "       [4233],\n",
       "       [4234],\n",
       "       [4260],\n",
       "       [4276],\n",
       "       [4284],\n",
       "       [4289],\n",
       "       [4290],\n",
       "       [4300],\n",
       "       [4311],\n",
       "       [4350],\n",
       "       [4361],\n",
       "       [4474],\n",
       "       [4505],\n",
       "       [4508],\n",
       "       [4606],\n",
       "       [4641],\n",
       "       [4715],\n",
       "       [4765],\n",
       "       [4820],\n",
       "       [4835],\n",
       "       [4843],\n",
       "       [4879],\n",
       "       [4889],\n",
       "       [4894],\n",
       "       [4898],\n",
       "       [4900],\n",
       "       [4904],\n",
       "       [4906],\n",
       "       [4908],\n",
       "       [4909],\n",
       "       [4913],\n",
       "       [4920],\n",
       "       [4929],\n",
       "       [4930],\n",
       "       [4945],\n",
       "       [4947],\n",
       "       [5014],\n",
       "       [5018],\n",
       "       [5055],\n",
       "       [5066],\n",
       "       [5094],\n",
       "       [5107],\n",
       "       [5117],\n",
       "       [5147],\n",
       "       [5171],\n",
       "       [5222],\n",
       "       [5330],\n",
       "       [5336],\n",
       "       [5352],\n",
       "       [5386],\n",
       "       [5422],\n",
       "       [5423],\n",
       "       [5460],\n",
       "       [5480],\n",
       "       [5542],\n",
       "       [5544],\n",
       "       [5553],\n",
       "       [5557],\n",
       "       [5558],\n",
       "       [5573],\n",
       "       [5597],\n",
       "       [5609],\n",
       "       [5614],\n",
       "       [5636],\n",
       "       [5694],\n",
       "       [5718],\n",
       "       [5721],\n",
       "       [5784],\n",
       "       [5830],\n",
       "       [5842],\n",
       "       [5846],\n",
       "       [5848],\n",
       "       [5866],\n",
       "       [5896],\n",
       "       [5959],\n",
       "       [5989],\n",
       "       [6019],\n",
       "       [6081],\n",
       "       [6098],\n",
       "       [6104],\n",
       "       [6110],\n",
       "       [6111],\n",
       "       [6118],\n",
       "       [6119],\n",
       "       [6125],\n",
       "       [6130],\n",
       "       [6132],\n",
       "       [6156],\n",
       "       [6181],\n",
       "       [6209],\n",
       "       [6212],\n",
       "       [6237],\n",
       "       [6241],\n",
       "       [6315],\n",
       "       [6462],\n",
       "       [6469],\n",
       "       [6471],\n",
       "       [6525],\n",
       "       [6635],\n",
       "       [6674],\n",
       "       [6739],\n",
       "       [6811],\n",
       "       [6815],\n",
       "       [6816],\n",
       "       [6818],\n",
       "       [6819],\n",
       "       [6828],\n",
       "       [6852],\n",
       "       [6872],\n",
       "       [6874],\n",
       "       [6964],\n",
       "       [6976],\n",
       "       [6985],\n",
       "       [6986],\n",
       "       [7009],\n",
       "       [7042],\n",
       "       [7082],\n",
       "       [7086],\n",
       "       [7094],\n",
       "       [7153],\n",
       "       [7178],\n",
       "       [7179],\n",
       "       [7181],\n",
       "       [7187],\n",
       "       [7188],\n",
       "       [7191],\n",
       "       [7194],\n",
       "       [7223],\n",
       "       [7232],\n",
       "       [7276],\n",
       "       [7318],\n",
       "       [7402],\n",
       "       [7405],\n",
       "       [7426],\n",
       "       [7427],\n",
       "       [7434],\n",
       "       [7435],\n",
       "       [7463],\n",
       "       [7468],\n",
       "       [7506],\n",
       "       [7510],\n",
       "       [7616],\n",
       "       [7621],\n",
       "       [7657],\n",
       "       [7667],\n",
       "       [7693],\n",
       "       [7704],\n",
       "       [7726],\n",
       "       [7839],\n",
       "       [7840],\n",
       "       [7843],\n",
       "       [7845],\n",
       "       [7870],\n",
       "       [7919],\n",
       "       [8011],\n",
       "       [8053],\n",
       "       [8061],\n",
       "       [8104],\n",
       "       [8116],\n",
       "       [8136],\n",
       "       [8263],\n",
       "       [8280],\n",
       "       [8291],\n",
       "       [8314],\n",
       "       [8334],\n",
       "       [8341],\n",
       "       [8432],\n",
       "       [8435],\n",
       "       [8437],\n",
       "       [8438],\n",
       "       [8439],\n",
       "       [8456],\n",
       "       [8519],\n",
       "       [8638],\n",
       "       [8645],\n",
       "       [8655],\n",
       "       [8656],\n",
       "       [8705],\n",
       "       [8742],\n",
       "       [8754],\n",
       "       [8839],\n",
       "       [8843],\n",
       "       [8899],\n",
       "       [8915],\n",
       "       [8918],\n",
       "       [8923],\n",
       "       [8940],\n",
       "       [8948],\n",
       "       [8971],\n",
       "       [9024],\n",
       "       [9037],\n",
       "       [9044],\n",
       "       [9048],\n",
       "       [9049],\n",
       "       [9061],\n",
       "       [9070],\n",
       "       [9087],\n",
       "       [9088],\n",
       "       [9089],\n",
       "       [9110],\n",
       "       [9152],\n",
       "       [9154],\n",
       "       [9230],\n",
       "       [9242],\n",
       "       [9257],\n",
       "       [9271],\n",
       "       [9448],\n",
       "       [9577],\n",
       "       [9581],\n",
       "       [9631],\n",
       "       [9651],\n",
       "       [9671],\n",
       "       [9693],\n",
       "       [9707]])"
      ]
     },
     "execution_count": 25,
     "metadata": {},
     "output_type": "execute_result"
    }
   ],
   "source": [
    "np.argwhere(ses_r_sq_on[0:9780]>0.2)"
   ]
  },
  {
   "cell_type": "code",
   "execution_count": null,
   "id": "bc6a635c",
   "metadata": {},
   "outputs": [],
   "source": []
  },
  {
   "cell_type": "code",
   "execution_count": null,
   "id": "319145a1",
   "metadata": {},
   "outputs": [],
   "source": []
  },
  {
   "cell_type": "code",
   "execution_count": null,
   "id": "eaa50344",
   "metadata": {},
   "outputs": [],
   "source": []
  },
  {
   "cell_type": "code",
   "execution_count": null,
   "id": "fa30a8b7",
   "metadata": {},
   "outputs": [],
   "source": []
  },
  {
   "cell_type": "code",
   "execution_count": null,
   "id": "1a4ffab5",
   "metadata": {},
   "outputs": [],
   "source": []
  },
  {
   "cell_type": "code",
   "execution_count": null,
   "id": "ea226e94",
   "metadata": {},
   "outputs": [],
   "source": []
  },
  {
   "cell_type": "code",
   "execution_count": 49,
   "id": "1157c686",
   "metadata": {},
   "outputs": [
    {
     "data": {
      "text/plain": [
       "array([0.465, 0.725, 0.915,   nan, 0.435, 0.965, 0.44 , 0.225, 0.455,\n",
       "       0.605])"
      ]
     },
     "execution_count": 49,
     "metadata": {},
     "output_type": "execute_result"
    }
   ],
   "source": [
    "ses_p_value_on[0:10]"
   ]
  },
  {
   "cell_type": "code",
   "execution_count": 47,
   "id": "ad2bb442",
   "metadata": {},
   "outputs": [
    {
     "data": {
      "text/plain": [
       "array([0.555, 0.41 , 0.23 ,   nan, 0.495, 0.33 , 0.355, 0.04 , 0.48 ,\n",
       "       0.495])"
      ]
     },
     "execution_count": 47,
     "metadata": {},
     "output_type": "execute_result"
    }
   ],
   "source": [
    "ses_p_value_off[0:10]"
   ]
  },
  {
   "cell_type": "code",
   "execution_count": 48,
   "id": "6a819d45",
   "metadata": {},
   "outputs": [
    {
     "data": {
      "text/plain": [
       "array([0.87 , 0.375, 0.325,   nan, 0.43 , 0.145, 0.585, 0.035, 0.58 ,\n",
       "       0.51 ])"
      ]
     },
     "execution_count": 48,
     "metadata": {},
     "output_type": "execute_result"
    }
   ],
   "source": [
    "ses_p_value_on_off[0:10]"
   ]
  },
  {
   "cell_type": "code",
   "execution_count": 50,
   "id": "2e8d6c86",
   "metadata": {},
   "outputs": [
    {
     "data": {
      "text/plain": [
       "array([0.0134646 , 0.03382928, 0.0387174 ,        nan, 0.03579094,\n",
       "       0.04778039, 0.02892227, 0.06028785, 0.02885739, 0.03209192])"
      ]
     },
     "execution_count": 50,
     "metadata": {},
     "output_type": "execute_result"
    }
   ],
   "source": [
    "ses_r_sq_on_off[0:10]"
   ]
  },
  {
   "cell_type": "code",
   "execution_count": 51,
   "id": "13e0020b",
   "metadata": {},
   "outputs": [
    {
     "data": {
      "text/plain": [
       "array([0.03293209, 0.02128998, 0.01059853,        nan, 0.03419627,\n",
       "       0.        , 0.03401583, 0.04351821, 0.03111298, 0.02255023])"
      ]
     },
     "execution_count": 51,
     "metadata": {},
     "output_type": "execute_result"
    }
   ],
   "source": [
    "ses_r_sq_on[0:10]"
   ]
  },
  {
   "cell_type": "code",
   "execution_count": 52,
   "id": "7035b127",
   "metadata": {},
   "outputs": [
    {
     "data": {
      "text/plain": [
       "array([0.0244704 , 0.03645846, 0.04797931,        nan, 0.03200108,\n",
       "       0.03630705, 0.0391121 , 0.09151248, 0.03318659, 0.03059711])"
      ]
     },
     "execution_count": 52,
     "metadata": {},
     "output_type": "execute_result"
    }
   ],
   "source": [
    "ses_r_sq_off[0:10]"
   ]
  },
  {
   "cell_type": "code",
   "execution_count": 41,
   "id": "e5363157",
   "metadata": {},
   "outputs": [
    {
     "data": {
      "text/plain": [
       "<matplotlib.colorbar.Colorbar at 0x7fb489f4b520>"
      ]
     },
     "execution_count": 41,
     "metadata": {},
     "output_type": "execute_result"
    },
    {
     "data": {
      "image/png": "[encoded data removed]",
      "text/plain": [
       "<Figure size 432x288 with 2 Axes>"
      ]
     },
     "metadata": {
      "needs_background": "light"
     },
     "output_type": "display_data"
    }
   ],
   "source": [
    "######## Compute z-scroe of RF:\n",
    "unit_e=9714\n",
    "rf_z= rf_on[unit_e,:,:]-np.mean(rf_on[unit_e,:,:])\n",
    "\n",
    "\n",
    "####### plot RF ##########\n",
    "plt.imshow(rf_z)\n",
    "plt.colorbar()"
   ]
  },
  {
   "cell_type": "code",
   "execution_count": 35,
   "id": "164d35ba",
   "metadata": {},
   "outputs": [
    {
     "data": {
      "text/plain": [
       "0.0"
      ]
     },
     "execution_count": 35,
     "metadata": {},
     "output_type": "execute_result"
    }
   ],
   "source": [
    "np.max(rf_on[3,:,:])"
   ]
  },
  {
   "cell_type": "code",
   "execution_count": 39,
   "id": "e06c00da",
   "metadata": {},
   "outputs": [],
   "source": [
    "        rf_z_on= rf_on[5,:,:]-np.mean(rf_on[5,:,:])\n",
    "        p_value, rsq, fit_params=fit_2d_gaussian_stats(rf_z_on,nShuffle=100)"
   ]
  },
  {
   "cell_type": "code",
   "execution_count": 41,
   "id": "da998763",
   "metadata": {},
   "outputs": [
    {
     "data": {
      "text/plain": [
       "0.97"
      ]
     },
     "execution_count": 41,
     "metadata": {},
     "output_type": "execute_result"
    }
   ],
   "source": [
    "p_value"
   ]
  },
  {
   "cell_type": "code",
   "execution_count": 42,
   "id": "787cb165",
   "metadata": {},
   "outputs": [
    {
     "data": {
      "text/plain": [
       "0.0"
      ]
     },
     "execution_count": 42,
     "metadata": {},
     "output_type": "execute_result"
    }
   ],
   "source": [
    "rsq"
   ]
  },
  {
   "cell_type": "code",
   "execution_count": 43,
   "id": "34dff643",
   "metadata": {},
   "outputs": [
    {
     "data": {
      "text/plain": [
       "array([-0.41610457, 10.26212298, -1.88909828, 11.03393709,  0.23958469])"
      ]
     },
     "execution_count": 43,
     "metadata": {},
     "output_type": "execute_result"
    }
   ],
   "source": [
    "fit_params"
   ]
  },
  {
   "cell_type": "code",
   "execution_count": 57,
   "id": "2193b3a6",
   "metadata": {},
   "outputs": [
    {
     "data": {
      "text/plain": [
       "array([75.97618486,  8.04435575,  3.53045521,  0.56983369,  0.25038169])"
      ]
     },
     "execution_count": 57,
     "metadata": {},
     "output_type": "execute_result"
    }
   ],
   "source": [
    "ses_fit_params_on_off[5,:]"
   ]
  },
  {
   "cell_type": "code",
   "execution_count": null,
   "id": "d4db573e",
   "metadata": {},
   "outputs": [],
   "source": []
  }
 ],
 "metadata": {
  "kernelspec": {
   "display_name": "Python [conda env:iblenv] *",
   "language": "python",
   "name": "conda-env-iblenv-py"
  },
  "language_info": {
   "codemirror_mode": {
    "name": "ipython",
    "version": 3
   },
   "file_extension": ".py",
   "mimetype": "text/x-python",
   "name": "python",
   "nbconvert_exporter": "python",
   "pygments_lexer": "ipython3",
   "version": "3.9.7"
  }
 },
 "nbformat": 4,
 "nbformat_minor": 5
}
